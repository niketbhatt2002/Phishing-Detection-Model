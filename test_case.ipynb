{
  "nbformat": 4,
  "nbformat_minor": 0,
  "metadata": {
    "colab": {
      "provenance": []
    },
    "kernelspec": {
      "name": "python3",
      "display_name": "Python 3"
    },
    "language_info": {
      "name": "python"
    }
  },
  "cells": [
    {
      "cell_type": "code",
      "source": [
        "import joblib\n",
        "\n",
        "# Load the trained model and TF-IDF vectorizer using joblib\n",
        "model_rf = joblib.load(\"random_forest_model.pkl\")\n",
        "vectorizer_rf = joblib.load(\"tfidf_vectorizer_for_random_forest.pkl\")\n",
        "\n",
        "# Function to classify a message\n",
        "def classify_message(message):\n",
        "    # Transform the message using the loaded TF-IDF vectorizer\n",
        "    message_vector = vectorizer_rf.transform([message])\n",
        "\n",
        "    # Predict the class (0 = ham, 1 = spam)\n",
        "    prediction = model_rf.predict(message_vector)[0]\n",
        "\n",
        "    return \"Phishing message\" if prediction == 1 else \"Safe message\"\n",
        "\n",
        "print(\"Ham-Spam prediction using Random Forest for Hindi and telugu messages\")\n",
        "\n",
        "\n",
        "test_message = \"क्या हम रविवार को मूवी देखने चलें?\"\n",
        "result = classify_message(test_message)\n",
        "print(f\"Test Message: {test_message}\")\n",
        "print(f\"Classification: {result}\")\n",
        "\n",
        "\n",
        "test_message_1 = \"आपका बैंक खाता ब्लॉक हो गया है। कृपया पुनः सक्रिय करने के लिए तुरंत इस लिंक पर जाएँ:\"\n",
        "result_1 = classify_message(test_message_1)\n",
        "print(f\"Test Message: {test_message_1}\")\n",
        "print(f\"Classification: {result_1}\")\n",
        "\n",
        "\n",
        "test_message_2 = \"మీరు రేపటి సమావేశానికి రావచ్చా\"\n",
        "result_2 = classify_message(test_message_2)\n",
        "print(f\"Test Message: {test_message_2}\")\n",
        "print(f\"Classification: {result_2}\")\n",
        "\n",
        "\n",
        "test_message_3 = \"ఈ ఆదివారం కుటుంబంతో కలిసి సినిమా వెళ్లాలనుకుంటున్నా. రాగలవా?\"\n",
        "result_3 = classify_message(test_message_3)\n",
        "print(f\"Test Message: {test_message_3}\")\n",
        "print(f\"Classification: {result_3}\")\n",
        "\n"
      ],
      "metadata": {
        "colab": {
          "base_uri": "https://localhost:8080/"
        },
        "id": "JjtK_ZL9GN4F",
        "outputId": "8e72997c-ff39-483a-8aea-62ed121671c9"
      },
      "execution_count": null,
      "outputs": [
        {
          "output_type": "stream",
          "name": "stdout",
          "text": [
            "Ham-Spam prediction using Random Forest for Hindi and telugu messages\n",
            "Test Message: क्या हम रविवार को मूवी देखने चलें?\n",
            "Classification: Safe message\n",
            "Test Message: आपका बैंक खाता ब्लॉक हो गया है। कृपया पुनः सक्रिय करने के लिए तुरंत इस लिंक पर जाएँ:\n",
            "Classification: Phishing message\n",
            "Test Message: మీరు రేపటి సమావేశానికి రావచ్చా\n",
            "Classification: Safe message\n",
            "Test Message: ఈ ఆదివారం కుటుంబంతో కలిసి సినిమా వెళ్లాలనుకుంటున్నా. రాగలవా?\n",
            "Classification: Safe message\n"
          ]
        }
      ]
    },
    {
      "cell_type": "code",
      "source": [],
      "metadata": {
        "id": "tTSgqUpqT_Lc"
      },
      "execution_count": null,
      "outputs": []
    },
    {
      "cell_type": "code",
      "source": [
        "import joblib\n",
        "\n",
        "# Load the trained model and TF-IDF vectorizer using joblib\n",
        "model_lr = joblib.load(\"final_text_classification_model.pkl\")\n",
        "vectorizer_lr = joblib.load(\"tfidf_vectorizer.pkl\")\n",
        "\n",
        "# Function to classify a message\n",
        "def classify_message(message):\n",
        "    # Transform the message using the loaded TF-IDF vectorizer\n",
        "    message_vector = vectorizer_lr.transform([message])\n",
        "\n",
        "    # Predict the class (0 = ham, 1 = spam)\n",
        "    prediction = model_lr.predict(message_vector)[0]\n",
        "\n",
        "    return \"Phishing message\" if prediction == 1 else \"Safe message\"\n",
        "\n",
        "\n",
        "print(\"Ham-Spam prediction using Logistic Regression for Hindi and Telugu messages\")\n",
        "\n",
        "test_message = \"क्या हम रविवार को मूवी देखने चलें?\"\n",
        "result = classify_message(test_message)\n",
        "print(f\"Test Message: {test_message}\")\n",
        "print(f\"Classification: {result}\")\n",
        "\n",
        "\n",
        "test_message_1 = \"बधाई हो! आपने ₹10,00,000 जीत लिए हैं! अपनी इनाम राशि प्राप्त करने के लिए इस लिंक पर क्लिक करें\"\n",
        "result_1 = classify_message(test_message_1)\n",
        "print(f\"Test Message: {test_message_1}\")\n",
        "print(f\"Classification: {result_1}\")\n",
        "\n",
        "\n",
        "test_message_2 = \"శుభాకాంక్షలు! మీరు ₹10,00,000 గెలుచుకున్నారు! మీ బహుమతి పొందేందుకు ఈ లింక్ క్లిక్ చేయండి\"\n",
        "result_2 = classify_message(test_message_2)\n",
        "print(f\"Test Message: {test_message_2}\")\n",
        "print(f\"Classification: {result_2}\")\n",
        "\n",
        "\n",
        "test_message_3 = \"ఈ ఆదివారం కుటుంబంతో కలిసి సినిమా వెళ్లాలనుకుంటున్నా. రాగలవా?\"\n",
        "result_3 = classify_message(test_message_3)\n",
        "print(f\"Test Message: {test_message_3}\")\n",
        "print(f\"Classification: {result_3}\")\n",
        "\n"
      ],
      "metadata": {
        "colab": {
          "base_uri": "https://localhost:8080/"
        },
        "outputId": "8cae9e8f-1ca8-43d3-82ee-3ef4b448233c",
        "id": "Iyrnx6dJUARm"
      },
      "execution_count": null,
      "outputs": [
        {
          "output_type": "stream",
          "name": "stdout",
          "text": [
            "Ham-Spam prediction using Logistic Regression for Hindi and Telugu messages\n",
            "Test Message: क्या हम रविवार को मूवी देखने चलें?\n",
            "Classification: Safe message\n",
            "Test Message: बधाई हो! आपने ₹10,00,000 जीत लिए हैं! अपनी इनाम राशि प्राप्त करने के लिए इस लिंक पर क्लिक करें\n",
            "Classification: Phishing message\n",
            "Test Message: శుభాకాంక్షలు! మీరు ₹10,00,000 గెలుచుకున్నారు! మీ బహుమతి పొందేందుకు ఈ లింక్ క్లిక్ చేయండి\n",
            "Classification: Phishing message\n",
            "Test Message: ఈ ఆదివారం కుటుంబంతో కలిసి సినిమా వెళ్లాలనుకుంటున్నా. రాగలవా?\n",
            "Classification: Safe message\n"
          ]
        }
      ]
    },
    {
      "cell_type": "code",
      "source": [],
      "metadata": {
        "id": "QPADF7IMVNOf"
      },
      "execution_count": null,
      "outputs": []
    },
    {
      "cell_type": "code",
      "source": [
        "import joblib\n",
        "\n",
        "# Load the trained model and TF-IDF vectorizer using joblib\n",
        "model_svm = joblib.load(\"svm_model.pkl\")\n",
        "vectorizer_svm = joblib.load(\"tfidf_vectorizer.pkl\")\n",
        "\n",
        "# Function to classify a message\n",
        "def classify_message(message):\n",
        "    # Transform the message using the loaded TF-IDF vectorizer\n",
        "    message_vector = vectorizer_svm.transform([message])\n",
        "\n",
        "    # Predict the class (0 = ham, 1 = spam)\n",
        "    prediction = model_svm.predict(message_vector)[0]\n",
        "\n",
        "    return \"Phishing message\" if prediction == 1 else \"Safe message\"\n",
        "\n",
        "\n",
        "print(\"Ham-Spam prediction using SVM for Hindi and Telugu messages\")\n",
        "\n",
        "test_message = \"क्या हम रविवार को मूवी देखने चलें?\"\n",
        "result = classify_message(test_message)\n",
        "print(f\"Test Message: {test_message}\")\n",
        "print(f\"Classification: {result}\")\n",
        "\n",
        "\n",
        "test_message_1 = \"आपका व्हाट्सएप खाता हैक हो गया है! तुरंत रीसेट करें: fakewhatsapp.com\"\n",
        "result_1 = classify_message(test_message_1)\n",
        "print(f\"Test Message: {test_message_1}\")\n",
        "print(f\"Classification: {result_1}\")\n",
        "\n",
        "\n",
        "test_message_2 = \"శుభాకాంక్షలు! మీరు ₹10,00,000 గెలుచుకున్నారు! మీ బహుమతి పొందేందుకు ఈ లింక్ క్లిక్ చేయండి\"\n",
        "result_2 = classify_message(test_message_2)\n",
        "print(f\"Test Message: {test_message_2}\")\n",
        "print(f\"Classification: {result_2}\")\n",
        "\n",
        "\n",
        "test_message_3 = \"ఈ ఆదివారం కుటుంబంతో కలిసి సినిమా వెళ్లాలనుకుంటున్నా. రాగలవా?\"\n",
        "result_3 = classify_message(test_message_3)\n",
        "print(f\"Test Message: {test_message_3}\")\n",
        "print(f\"Classification: {result_3}\")\n",
        "\n"
      ],
      "metadata": {
        "colab": {
          "base_uri": "https://localhost:8080/"
        },
        "outputId": "cfafeb01-f004-44f8-fb94-89e4e90479e5",
        "id": "eN8d5DJuWdOU"
      },
      "execution_count": null,
      "outputs": [
        {
          "output_type": "stream",
          "name": "stdout",
          "text": [
            "Ham-Spam prediction using SVM for Hindi and Telugu messages\n",
            "Test Message: क्या हम रविवार को मूवी देखने चलें?\n",
            "Classification: Safe message\n",
            "Test Message: आपका व्हाट्सएप खाता हैक हो गया है! तुरंत रीसेट करें: fakewhatsapp.com\n",
            "Classification: Safe message\n",
            "Test Message: శుభాకాంక్షలు! మీరు ₹10,00,000 గెలుచుకున్నారు! మీ బహుమతి పొందేందుకు ఈ లింక్ క్లిక్ చేయండి\n",
            "Classification: Safe message\n",
            "Test Message: ఈ ఆదివారం కుటుంబంతో కలిసి సినిమా వెళ్లాలనుకుంటున్నా. రాగలవా?\n",
            "Classification: Safe message\n"
          ]
        }
      ]
    },
    {
      "cell_type": "markdown",
      "source": [
        "**Editing The SVM Model**"
      ],
      "metadata": {
        "id": "DnFJzSQ7Swrz"
      }
    },
    {
      "cell_type": "code",
      "source": [
        "import joblib\n",
        "from sklearn.feature_extraction.text import TfidfVectorizer\n",
        "from sklearn.svm import SVC\n",
        "from sklearn.model_selection import train_test_split\n",
        "from sklearn.metrics import classification_report\n",
        "\n",
        "# Load your dataset (replace with your actual data)\n",
        "# example data\n",
        "data = [(\"क्या हम रविवार को मूवी देखने चलें?\", \"ham\"),\n",
        "        (\"आपका व्हाट्सएप खाता हैक हो गया है! तुरंत रीसेट करें: fakewhatsapp.com\", \"spam\"),\n",
        "        (\"శుభాకాంక్షలు! మీరు ₹10,00,000 గెలుచుకున్నారు! మీ బహుమతి పొందేందుకు ఈ లింక్ క్లిక్ చేయండి\", \"spam\"),\n",
        "        (\"ఈ ఆదివారం కుటుంబంతో కలిసి సినిమా వెళ్లాలనుకుంటున్నా. రాగలవా?\", \"ham\"),\n",
        "        (\"Get free money now! click this link\", \"spam\"),\n",
        "        (\"Hello how are you?\", \"ham\")]\n",
        "\n",
        "messages = [message[0] for message in data]\n",
        "labels = [message[1] for message in data]\n",
        "\n",
        "# Split data\n",
        "X_train, X_test, y_train, y_test = train_test_split(messages, labels, test_size=0.2, random_state=42)\n",
        "\n",
        "# Vectorize\n",
        "vectorizer = TfidfVectorizer()\n",
        "X_train_vec = vectorizer.fit_transform(X_train)\n",
        "X_test_vec = vectorizer.transform(X_test)\n",
        "\n",
        "# Train SVM\n",
        "model = SVC(kernel='linear')\n",
        "model.fit(X_train_vec, y_train)\n",
        "\n",
        "# Evaluate\n",
        "y_pred = model.predict(X_test_vec)\n",
        "print(classification_report(y_test, y_pred))\n",
        "\n",
        "# Save model and vectorizer\n",
        "joblib.dump(model, \"svm_model.pkl\")\n",
        "joblib.dump(vectorizer, \"tfidf_vectorizer.pkl\")\n",
        "\n",
        "#Load and test.\n",
        "model_svm = joblib.load(\"svm_model.pkl\")\n",
        "vectorizer_svm = joblib.load(\"tfidf_vectorizer.pkl\")\n",
        "\n",
        "def classify_message(message):\n",
        "    message_vector = vectorizer_svm.transform([message])\n",
        "    prediction = model_svm.predict(message_vector)[0]\n",
        "    return \"Phishing message\" if prediction == \"spam\" else \"Safe message\"\n",
        "\n",
        "test_message = \"क्या हम रविवार को मूवी देखने चलें?\"\n",
        "result = classify_message(test_message)\n",
        "print(f\"Test Message: {test_message}\")\n",
        "print(f\"Classification: {result}\")\n",
        "\n",
        "test_message_1 = \"आपका व्हाट्सएप खाता हैक हो गया है! तुरंत रीसेट करें: fakewhatsapp.com\"\n",
        "result_1 = classify_message(test_message_1)\n",
        "print(f\"Test Message: {test_message_1}\")\n",
        "print(f\"Classification: {result_1}\")\n",
        "\n",
        "test_message_2 = \"శుభాకాంక్షలు! మీరు ₹10,00,000 గెలుచుకున్నారు! మీ బహుమతి పొందేందుకు ఈ లింక్ క్లిక్ చేయండి\"\n",
        "result_2 = classify_message(test_message_2)\n",
        "print(f\"Test Message: {test_message_2}\")\n",
        "print(f\"Classification: {result_2}\")\n",
        "\n",
        "test_message_3 = \"ఈ ఆదివారం కుటుంబంతో కలిసి సినిమా వెళ్లాలనుకుంటున్నా. రాగలవా?\"\n",
        "result_3 = classify_message(test_message_3)\n",
        "print(f\"Test Message: {test_message_3}\")\n",
        "print(f\"Classification: {result_3}\")"
      ],
      "metadata": {
        "colab": {
          "base_uri": "https://localhost:8080/"
        },
        "id": "Oy_BwVjTSfHK",
        "outputId": "e97337a3-7e65-4062-dc9c-aff25d5b543b"
      },
      "execution_count": 1,
      "outputs": [
        {
          "output_type": "stream",
          "name": "stdout",
          "text": [
            "              precision    recall  f1-score   support\n",
            "\n",
            "         ham       0.00      0.00      0.00         1\n",
            "        spam       0.50      1.00      0.67         1\n",
            "\n",
            "    accuracy                           0.50         2\n",
            "   macro avg       0.25      0.50      0.33         2\n",
            "weighted avg       0.25      0.50      0.33         2\n",
            "\n",
            "Test Message: क्या हम रविवार को मूवी देखने चलें?\n",
            "Classification: Phishing message\n",
            "Test Message: आपका व्हाट्सएप खाता हैक हो गया है! तुरंत रीसेट करें: fakewhatsapp.com\n",
            "Classification: Phishing message\n",
            "Test Message: శుభాకాంక్షలు! మీరు ₹10,00,000 గెలుచుకున్నారు! మీ బహుమతి పొందేందుకు ఈ లింక్ క్లిక్ చేయండి\n",
            "Classification: Phishing message\n",
            "Test Message: ఈ ఆదివారం కుటుంబంతో కలిసి సినిమా వెళ్లాలనుకుంటున్నా. రాగలవా?\n",
            "Classification: Safe message\n"
          ]
        },
        {
          "output_type": "stream",
          "name": "stderr",
          "text": [
            "/usr/local/lib/python3.11/dist-packages/sklearn/metrics/_classification.py:1565: UndefinedMetricWarning: Precision is ill-defined and being set to 0.0 in labels with no predicted samples. Use `zero_division` parameter to control this behavior.\n",
            "  _warn_prf(average, modifier, f\"{metric.capitalize()} is\", len(result))\n",
            "/usr/local/lib/python3.11/dist-packages/sklearn/metrics/_classification.py:1565: UndefinedMetricWarning: Precision is ill-defined and being set to 0.0 in labels with no predicted samples. Use `zero_division` parameter to control this behavior.\n",
            "  _warn_prf(average, modifier, f\"{metric.capitalize()} is\", len(result))\n",
            "/usr/local/lib/python3.11/dist-packages/sklearn/metrics/_classification.py:1565: UndefinedMetricWarning: Precision is ill-defined and being set to 0.0 in labels with no predicted samples. Use `zero_division` parameter to control this behavior.\n",
            "  _warn_prf(average, modifier, f\"{metric.capitalize()} is\", len(result))\n"
          ]
        }
      ]
    }
  ]
}