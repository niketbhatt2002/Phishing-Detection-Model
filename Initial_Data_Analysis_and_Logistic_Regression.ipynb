{
  "nbformat": 4,
  "nbformat_minor": 0,
  "metadata": {
    "colab": {
      "provenance": []
    },
    "kernelspec": {
      "name": "python3",
      "display_name": "Python 3"
    },
    "language_info": {
      "name": "python"
    }
  },
  "cells": [
    {
      "cell_type": "code",
      "execution_count": null,
      "metadata": {
        "colab": {
          "base_uri": "https://localhost:8080/",
          "height": 564
        },
        "id": "opizVb809-ae",
        "outputId": "44db42a0-7727-40cc-c0af-c3502a84f776"
      },
      "outputs": [
        {
          "output_type": "error",
          "ename": "UnicodeDecodeError",
          "evalue": "'utf-8' codec can't decode byte 0x8e in position 11: invalid start byte",
          "traceback": [
            "\u001b[0;31m---------------------------------------------------------------------------\u001b[0m",
            "\u001b[0;31mUnicodeDecodeError\u001b[0m                        Traceback (most recent call last)",
            "\u001b[0;32m<ipython-input-2-835e5081e490>\u001b[0m in \u001b[0;36m<cell line: 0>\u001b[0;34m()\u001b[0m\n\u001b[1;32m     42\u001b[0m \u001b[0minput_file\u001b[0m \u001b[0;34m=\u001b[0m \u001b[0;34m\"/content/Niket_Dajinder.xlsx\"\u001b[0m  \u001b[0;31m# Replace with your input file name\u001b[0m\u001b[0;34m\u001b[0m\u001b[0;34m\u001b[0m\u001b[0m\n\u001b[1;32m     43\u001b[0m \u001b[0moutput_file\u001b[0m \u001b[0;34m=\u001b[0m \u001b[0;34m\"/content/augmented_spam.csv\"\u001b[0m  \u001b[0;31m# Replace with your desired output file name\u001b[0m\u001b[0;34m\u001b[0m\u001b[0;34m\u001b[0m\u001b[0m\n\u001b[0;32m---> 44\u001b[0;31m \u001b[0maugment_spam_data\u001b[0m\u001b[0;34m(\u001b[0m\u001b[0minput_file\u001b[0m\u001b[0;34m,\u001b[0m \u001b[0moutput_file\u001b[0m\u001b[0;34m)\u001b[0m\u001b[0;34m\u001b[0m\u001b[0;34m\u001b[0m\u001b[0m\n\u001b[0m",
            "\u001b[0;32m<ipython-input-2-835e5081e490>\u001b[0m in \u001b[0;36maugment_spam_data\u001b[0;34m(input_file, output_file)\u001b[0m\n\u001b[1;32m     10\u001b[0m     \"\"\"\n\u001b[1;32m     11\u001b[0m     \u001b[0;32mtry\u001b[0m\u001b[0;34m:\u001b[0m\u001b[0;34m\u001b[0m\u001b[0;34m\u001b[0m\u001b[0m\n\u001b[0;32m---> 12\u001b[0;31m         \u001b[0mdf\u001b[0m \u001b[0;34m=\u001b[0m \u001b[0mpd\u001b[0m\u001b[0;34m.\u001b[0m\u001b[0mread_csv\u001b[0m\u001b[0;34m(\u001b[0m\u001b[0minput_file\u001b[0m\u001b[0;34m)\u001b[0m\u001b[0;34m\u001b[0m\u001b[0;34m\u001b[0m\u001b[0m\n\u001b[0m\u001b[1;32m     13\u001b[0m     \u001b[0;32mexcept\u001b[0m \u001b[0mFileNotFoundError\u001b[0m\u001b[0;34m:\u001b[0m\u001b[0;34m\u001b[0m\u001b[0;34m\u001b[0m\u001b[0m\n\u001b[1;32m     14\u001b[0m         \u001b[0mprint\u001b[0m\u001b[0;34m(\u001b[0m\u001b[0;34mf\"Error: Input file '{input_file}' not found.\"\u001b[0m\u001b[0;34m)\u001b[0m\u001b[0;34m\u001b[0m\u001b[0;34m\u001b[0m\u001b[0m\n",
            "\u001b[0;32m/usr/local/lib/python3.11/dist-packages/pandas/io/parsers/readers.py\u001b[0m in \u001b[0;36mread_csv\u001b[0;34m(filepath_or_buffer, sep, delimiter, header, names, index_col, usecols, dtype, engine, converters, true_values, false_values, skipinitialspace, skiprows, skipfooter, nrows, na_values, keep_default_na, na_filter, verbose, skip_blank_lines, parse_dates, infer_datetime_format, keep_date_col, date_parser, date_format, dayfirst, cache_dates, iterator, chunksize, compression, thousands, decimal, lineterminator, quotechar, quoting, doublequote, escapechar, comment, encoding, encoding_errors, dialect, on_bad_lines, delim_whitespace, low_memory, memory_map, float_precision, storage_options, dtype_backend)\u001b[0m\n\u001b[1;32m   1024\u001b[0m     \u001b[0mkwds\u001b[0m\u001b[0;34m.\u001b[0m\u001b[0mupdate\u001b[0m\u001b[0;34m(\u001b[0m\u001b[0mkwds_defaults\u001b[0m\u001b[0;34m)\u001b[0m\u001b[0;34m\u001b[0m\u001b[0;34m\u001b[0m\u001b[0m\n\u001b[1;32m   1025\u001b[0m \u001b[0;34m\u001b[0m\u001b[0m\n\u001b[0;32m-> 1026\u001b[0;31m     \u001b[0;32mreturn\u001b[0m \u001b[0m_read\u001b[0m\u001b[0;34m(\u001b[0m\u001b[0mfilepath_or_buffer\u001b[0m\u001b[0;34m,\u001b[0m \u001b[0mkwds\u001b[0m\u001b[0;34m)\u001b[0m\u001b[0;34m\u001b[0m\u001b[0;34m\u001b[0m\u001b[0m\n\u001b[0m\u001b[1;32m   1027\u001b[0m \u001b[0;34m\u001b[0m\u001b[0m\n\u001b[1;32m   1028\u001b[0m \u001b[0;34m\u001b[0m\u001b[0m\n",
            "\u001b[0;32m/usr/local/lib/python3.11/dist-packages/pandas/io/parsers/readers.py\u001b[0m in \u001b[0;36m_read\u001b[0;34m(filepath_or_buffer, kwds)\u001b[0m\n\u001b[1;32m    618\u001b[0m \u001b[0;34m\u001b[0m\u001b[0m\n\u001b[1;32m    619\u001b[0m     \u001b[0;31m# Create the parser.\u001b[0m\u001b[0;34m\u001b[0m\u001b[0;34m\u001b[0m\u001b[0m\n\u001b[0;32m--> 620\u001b[0;31m     \u001b[0mparser\u001b[0m \u001b[0;34m=\u001b[0m \u001b[0mTextFileReader\u001b[0m\u001b[0;34m(\u001b[0m\u001b[0mfilepath_or_buffer\u001b[0m\u001b[0;34m,\u001b[0m \u001b[0;34m**\u001b[0m\u001b[0mkwds\u001b[0m\u001b[0;34m)\u001b[0m\u001b[0;34m\u001b[0m\u001b[0;34m\u001b[0m\u001b[0m\n\u001b[0m\u001b[1;32m    621\u001b[0m \u001b[0;34m\u001b[0m\u001b[0m\n\u001b[1;32m    622\u001b[0m     \u001b[0;32mif\u001b[0m \u001b[0mchunksize\u001b[0m \u001b[0;32mor\u001b[0m \u001b[0miterator\u001b[0m\u001b[0;34m:\u001b[0m\u001b[0;34m\u001b[0m\u001b[0;34m\u001b[0m\u001b[0m\n",
            "\u001b[0;32m/usr/local/lib/python3.11/dist-packages/pandas/io/parsers/readers.py\u001b[0m in \u001b[0;36m__init__\u001b[0;34m(self, f, engine, **kwds)\u001b[0m\n\u001b[1;32m   1618\u001b[0m \u001b[0;34m\u001b[0m\u001b[0m\n\u001b[1;32m   1619\u001b[0m         \u001b[0mself\u001b[0m\u001b[0;34m.\u001b[0m\u001b[0mhandles\u001b[0m\u001b[0;34m:\u001b[0m \u001b[0mIOHandles\u001b[0m \u001b[0;34m|\u001b[0m \u001b[0;32mNone\u001b[0m \u001b[0;34m=\u001b[0m \u001b[0;32mNone\u001b[0m\u001b[0;34m\u001b[0m\u001b[0;34m\u001b[0m\u001b[0m\n\u001b[0;32m-> 1620\u001b[0;31m         \u001b[0mself\u001b[0m\u001b[0;34m.\u001b[0m\u001b[0m_engine\u001b[0m \u001b[0;34m=\u001b[0m \u001b[0mself\u001b[0m\u001b[0;34m.\u001b[0m\u001b[0m_make_engine\u001b[0m\u001b[0;34m(\u001b[0m\u001b[0mf\u001b[0m\u001b[0;34m,\u001b[0m \u001b[0mself\u001b[0m\u001b[0;34m.\u001b[0m\u001b[0mengine\u001b[0m\u001b[0;34m)\u001b[0m\u001b[0;34m\u001b[0m\u001b[0;34m\u001b[0m\u001b[0m\n\u001b[0m\u001b[1;32m   1621\u001b[0m \u001b[0;34m\u001b[0m\u001b[0m\n\u001b[1;32m   1622\u001b[0m     \u001b[0;32mdef\u001b[0m \u001b[0mclose\u001b[0m\u001b[0;34m(\u001b[0m\u001b[0mself\u001b[0m\u001b[0;34m)\u001b[0m \u001b[0;34m->\u001b[0m \u001b[0;32mNone\u001b[0m\u001b[0;34m:\u001b[0m\u001b[0;34m\u001b[0m\u001b[0;34m\u001b[0m\u001b[0m\n",
            "\u001b[0;32m/usr/local/lib/python3.11/dist-packages/pandas/io/parsers/readers.py\u001b[0m in \u001b[0;36m_make_engine\u001b[0;34m(self, f, engine)\u001b[0m\n\u001b[1;32m   1896\u001b[0m \u001b[0;34m\u001b[0m\u001b[0m\n\u001b[1;32m   1897\u001b[0m         \u001b[0;32mtry\u001b[0m\u001b[0;34m:\u001b[0m\u001b[0;34m\u001b[0m\u001b[0;34m\u001b[0m\u001b[0m\n\u001b[0;32m-> 1898\u001b[0;31m             \u001b[0;32mreturn\u001b[0m \u001b[0mmapping\u001b[0m\u001b[0;34m[\u001b[0m\u001b[0mengine\u001b[0m\u001b[0;34m]\u001b[0m\u001b[0;34m(\u001b[0m\u001b[0mf\u001b[0m\u001b[0;34m,\u001b[0m \u001b[0;34m**\u001b[0m\u001b[0mself\u001b[0m\u001b[0;34m.\u001b[0m\u001b[0moptions\u001b[0m\u001b[0;34m)\u001b[0m\u001b[0;34m\u001b[0m\u001b[0;34m\u001b[0m\u001b[0m\n\u001b[0m\u001b[1;32m   1899\u001b[0m         \u001b[0;32mexcept\u001b[0m \u001b[0mException\u001b[0m\u001b[0;34m:\u001b[0m\u001b[0;34m\u001b[0m\u001b[0;34m\u001b[0m\u001b[0m\n\u001b[1;32m   1900\u001b[0m             \u001b[0;32mif\u001b[0m \u001b[0mself\u001b[0m\u001b[0;34m.\u001b[0m\u001b[0mhandles\u001b[0m \u001b[0;32mis\u001b[0m \u001b[0;32mnot\u001b[0m \u001b[0;32mNone\u001b[0m\u001b[0;34m:\u001b[0m\u001b[0;34m\u001b[0m\u001b[0;34m\u001b[0m\u001b[0m\n",
            "\u001b[0;32m/usr/local/lib/python3.11/dist-packages/pandas/io/parsers/c_parser_wrapper.py\u001b[0m in \u001b[0;36m__init__\u001b[0;34m(self, src, **kwds)\u001b[0m\n\u001b[1;32m     91\u001b[0m             \u001b[0;31m# Fail here loudly instead of in cython after reading\u001b[0m\u001b[0;34m\u001b[0m\u001b[0;34m\u001b[0m\u001b[0m\n\u001b[1;32m     92\u001b[0m             \u001b[0mimport_optional_dependency\u001b[0m\u001b[0;34m(\u001b[0m\u001b[0;34m\"pyarrow\"\u001b[0m\u001b[0;34m)\u001b[0m\u001b[0;34m\u001b[0m\u001b[0;34m\u001b[0m\u001b[0m\n\u001b[0;32m---> 93\u001b[0;31m         \u001b[0mself\u001b[0m\u001b[0;34m.\u001b[0m\u001b[0m_reader\u001b[0m \u001b[0;34m=\u001b[0m \u001b[0mparsers\u001b[0m\u001b[0;34m.\u001b[0m\u001b[0mTextReader\u001b[0m\u001b[0;34m(\u001b[0m\u001b[0msrc\u001b[0m\u001b[0;34m,\u001b[0m \u001b[0;34m**\u001b[0m\u001b[0mkwds\u001b[0m\u001b[0;34m)\u001b[0m\u001b[0;34m\u001b[0m\u001b[0;34m\u001b[0m\u001b[0m\n\u001b[0m\u001b[1;32m     94\u001b[0m \u001b[0;34m\u001b[0m\u001b[0m\n\u001b[1;32m     95\u001b[0m         \u001b[0mself\u001b[0m\u001b[0;34m.\u001b[0m\u001b[0munnamed_cols\u001b[0m \u001b[0;34m=\u001b[0m \u001b[0mself\u001b[0m\u001b[0;34m.\u001b[0m\u001b[0m_reader\u001b[0m\u001b[0;34m.\u001b[0m\u001b[0munnamed_cols\u001b[0m\u001b[0;34m\u001b[0m\u001b[0;34m\u001b[0m\u001b[0m\n",
            "\u001b[0;32mparsers.pyx\u001b[0m in \u001b[0;36mpandas._libs.parsers.TextReader.__cinit__\u001b[0;34m()\u001b[0m\n",
            "\u001b[0;32mparsers.pyx\u001b[0m in \u001b[0;36mpandas._libs.parsers.TextReader._get_header\u001b[0;34m()\u001b[0m\n",
            "\u001b[0;32mparsers.pyx\u001b[0m in \u001b[0;36mpandas._libs.parsers.TextReader._tokenize_rows\u001b[0;34m()\u001b[0m\n",
            "\u001b[0;32mparsers.pyx\u001b[0m in \u001b[0;36mpandas._libs.parsers.TextReader._check_tokenize_status\u001b[0;34m()\u001b[0m\n",
            "\u001b[0;32mparsers.pyx\u001b[0m in \u001b[0;36mpandas._libs.parsers.raise_parser_error\u001b[0;34m()\u001b[0m\n",
            "\u001b[0;31mUnicodeDecodeError\u001b[0m: 'utf-8' codec can't decode byte 0x8e in position 11: invalid start byte"
          ]
        }
      ],
      "source": [
        "# prompt: I want to generate new excel file from existing file which contains more no. of spam messages then existing one, so you have duplicates those rows where it's mention that message in next column in same row is spam, ok and delete the next ham tagged row only, so our dataset of spam will increase by duplicating it and dataset of ham will decrease. 1st column named is v1 where it is mention either message is ham or spam and next column is v2 where message is existing.\n",
        "\n",
        "import pandas as pd\n",
        "\n",
        "def augment_spam_data(input_file, output_file):\n",
        "    \"\"\"\n",
        "    Augments a dataset to increase the proportion of spam messages.\n",
        "\n",
        "    Duplicates rows tagged as spam and removes the subsequent ham message.\n",
        "    \"\"\"\n",
        "    try:\n",
        "        df = pd.read_csv(input_file)\n",
        "    except FileNotFoundError:\n",
        "        print(f\"Error: Input file '{input_file}' not found.\")\n",
        "        return\n",
        "\n",
        "    # Check if required columns exist\n",
        "    if 'v1' not in df.columns or 'v2' not in df.columns:\n",
        "        print(\"Error: Input file must contain 'v1' and 'v2' columns.\")\n",
        "        return\n",
        "\n",
        "    augmented_data = []\n",
        "    i = 0\n",
        "    while i < len(df):\n",
        "        if df['v1'][i] == 'spam':\n",
        "            augmented_data.append(df.iloc[i])  # Append the spam message\n",
        "            # Duplicate the spam message if possible\n",
        "            if i + 1 < len(df):\n",
        "                if df['v1'][i+1] == 'ham':\n",
        "                  augmented_data.append(df.iloc[i])\n",
        "                  i += 1 # Skip the ham message\n",
        "        elif df['v1'][i] == 'ham':\n",
        "            augmented_data.append(df.iloc[i]) # keep ham messages which are not succeeding a spam message\n",
        "        i += 1\n",
        "\n",
        "    augmented_df = pd.DataFrame(augmented_data)\n",
        "    augmented_df.to_csv(output_file, index=False)\n",
        "    print(f\"Augmented dataset saved to '{output_file}'\")\n",
        "\n",
        "\n",
        "# Example usage:\n",
        "input_file = \"/content/Niket_Dajinder.xlsx\"  # Replace with your input file name\n",
        "output_file = \"/content/augmented_spam.csv\"  # Replace with your desired output file name\n",
        "augment_spam_data(input_file, output_file)\n"
      ]
    },
    {
      "source": [
        "\n",
        "!pip install openpyxl\n",
        "import pandas as pd\n",
        "\n",
        "def augment_spam_data(input_file, output_file):\n",
        "    \"\"\"\n",
        "    Augments a dataset to increase the proportion of spam messages.\n",
        "\n",
        "    Duplicates rows tagged as spam and removes the subsequent ham message.\n",
        "    \"\"\"\n",
        "    try:\n",
        "        # Use pd.read_excel to read Excel files\n",
        "        df = pd.read_excel(input_file)\n",
        "    except FileNotFoundError:\n",
        "        print(f\"Error: Input file '{input_file}' not found.\")\n",
        "        return\n",
        "\n",
        "    # Check if required columns exist\n",
        "    if 'v1' not in df.columns or 'v2' not in df.columns:\n",
        "        print(\"Error: Input file must contain 'v1' and 'v2' columns.\")\n",
        "        return\n",
        "\n",
        "    augmented_data = []\n",
        "    i = 0\n",
        "    while i < len(df):\n",
        "        if df['v1'][i] == 'spam':\n",
        "            augmented_data.append(df.iloc[i])  # Append the spam message\n",
        "            # Duplicate the spam message if possible\n",
        "            if i < len(df) - 1:\n",
        "                augmented_data.append(df.iloc[i])\n",
        "                i += 1\n",
        "        i += 1\n",
        "    augmented_df = pd.DataFrame(augmented_data)\n",
        "    augmented_df.to_excel(output_file, index=False)"
      ],
      "cell_type": "code",
      "metadata": {
        "colab": {
          "base_uri": "https://localhost:8080/"
        },
        "id": "7BMC2kxg_XiS",
        "outputId": "a33ea5a3-642b-4a54-f6ae-130bb539497c"
      },
      "execution_count": null,
      "outputs": [
        {
          "output_type": "stream",
          "name": "stdout",
          "text": [
            "Requirement already satisfied: openpyxl in /usr/local/lib/python3.11/dist-packages (3.1.5)\n",
            "Requirement already satisfied: et-xmlfile in /usr/local/lib/python3.11/dist-packages (from openpyxl) (2.0.0)\n"
          ]
        }
      ]
    },
    {
      "cell_type": "code",
      "source": [
        "import pandas as pd\n",
        "\n",
        "# Load the Excel file (Make sure you upload it first in Colab)\n",
        "df = pd.read_excel(\"/content/Niket_Dajinder.xlsx\")\n",
        "\n",
        "# Ensure column names are correct\n",
        "df.columns = ['v1', 'v2']\n",
        "\n",
        "# Find indices where v1 is 'spam'\n",
        "spam_indices = df[df['v1'] == 'spam'].index.tolist()\n",
        "\n",
        "# List to store rows to be deleted\n",
        "rows_to_delete = []\n",
        "\n",
        "# Duplicate spam rows and mark next ham for deletion\n",
        "for idx in spam_indices:\n",
        "    df = pd.concat([df, df.iloc[[idx]]])  # Duplicate spam row\n",
        "\n",
        "    # Find next ham message\n",
        "    if idx + 1 < len(df) and df.iloc[idx + 1]['v1'] == 'ham':\n",
        "        rows_to_delete.append(idx + 1)\n",
        "\n",
        "# Remove ham messages next to duplicated spam\n",
        "df = df.drop(rows_to_delete)\n",
        "\n",
        "# Reset index\n",
        "df = df.reset_index(drop=True)\n",
        "\n",
        "# Save the modified dataset back to Excel\n",
        "df.to_excel(\"/content/balanced_dataset.xlsx\", index=False)\n",
        "\n",
        "print(\"✅ Dataset balanced successfully! New file saved as 'balanced_dataset.xlsx'\")\n"
      ],
      "metadata": {
        "colab": {
          "base_uri": "https://localhost:8080/"
        },
        "id": "hm7A15Eg-1m_",
        "outputId": "ab323a8e-3e5b-4308-b877-af1f7fbab80f"
      },
      "execution_count": null,
      "outputs": [
        {
          "output_type": "stream",
          "name": "stdout",
          "text": [
            "✅ Dataset balanced successfully! New file saved as 'balanced_dataset.xlsx'\n"
          ]
        }
      ]
    },
    {
      "cell_type": "code",
      "source": [
        "import pandas as pd\n",
        "\n",
        "# Load the upgraded Excel file\n",
        "df = pd.read_excel(\"/content/balanced_dataset.xlsx\")\n",
        "\n",
        "# Count occurrences of each label\n",
        "counts = df['v1'].value_counts()\n",
        "\n",
        "# Display the counts\n",
        "print(\"✅ Count of Messages in Upgraded Dataset:\")\n",
        "print(counts)\n"
      ],
      "metadata": {
        "colab": {
          "base_uri": "https://localhost:8080/"
        },
        "id": "G0MnkXv8WydI",
        "outputId": "de971aea-9121-42b1-ca77-7b74352ec7c5"
      },
      "execution_count": null,
      "outputs": [
        {
          "output_type": "stream",
          "name": "stdout",
          "text": [
            "✅ Count of Messages in Upgraded Dataset:\n",
            "v1\n",
            "ham     367\n",
            "spam    142\n",
            "Name: count, dtype: int64\n"
          ]
        }
      ]
    },
    {
      "cell_type": "code",
      "source": [
        "import pandas as pd\n",
        "import requests\n",
        "\n",
        "# ✅ Replace with your actual API key and region\n",
        "API_KEY = \"FrN1fqSKqGS60hCdVaCuy46V63oF7Kp5M8dz3EJ8q3eDrkzG4jVPJQQJ99BBACYeBjFXJ3w3AAAbACOGzZGM\"  # <-- Paste your Key 1 here\n",
        "LOCATION = \"eastus\"  # Example: \"westeurope\", \"eastus\", etc.\n",
        "\n",
        "# Microsoft Translator API endpoint\n",
        "ENDPOINT = \"https://api.cognitive.microsofttranslator.com/translate\"\n",
        "\n",
        "# ✅ Load your CSV file with a different encoding\n",
        "df = pd.read_csv(\"/content/spam.csv\", encoding='ISO-8859-1')  # Try 'ISO-8859-1' or 'utf-16'\n",
        "\n",
        "# ✅ Inspect the first few rows of the dataframe and the column names\n",
        "print(df.head())  # This will print the first few rows\n",
        "print(df.columns)  # This will print the column names\n",
        "\n",
        "# Assuming column v1 contains labels and column v2 contains the text, we just need to rename columns.\n",
        "df.columns = ['v1', 'v2']\n",
        "\n",
        "# ✅ Function to translate text to Hindi\n",
        "def translate_to_hindi(text):\n",
        "    if pd.isna(text):  # Handle missing values\n",
        "        return \"\"\n",
        "\n",
        "    params = {\n",
        "        \"api-version\": \"3.0\",\n",
        "        \"from\": \"en\",\n",
        "        \"to\": \"hi\"\n",
        "    }\n",
        "\n",
        "    headers = {\n",
        "        \"Ocp-Apim-Subscription-Key\": API_KEY,\n",
        "        \"Ocp-Apim-Subscription-Region\": LOCATION,\n",
        "        \"Content-Type\": \"application/json\"\n",
        "    }\n",
        "\n",
        "    body = [{\"text\": text}]\n",
        "\n",
        "    response = requests.post(ENDPOINT, params=params, headers=headers, json=body)\n",
        "\n",
        "    if response.status_code == 200:\n",
        "        return response.json()[0][\"translations\"][0][\"text\"]\n",
        "    else:\n",
        "        return f\"Error: {response.status_code}\"  # Handle API errors\n",
        "\n",
        "# ✅ Translate all rows in column 'v2' (the sentences) into Hindi\n",
        "df['v2'] = df['v2'].apply(translate_to_hindi)\n",
        "\n",
        "# ✅ Save the updated DataFrame (now only Hindi text in v2, with the original labels intact in v1)\n",
        "df.to_csv(\"translated_dataset.csv\", index=False, encoding=\"utf-8-sig\")\n",
        "\n",
        "print(\"✅ Translation completed! English removed, only Hindi retained in the 'v2' column. File saved as 'translated_dataset.csv'.\")\n"
      ],
      "metadata": {
        "id": "OUTc6b8_Xtt1",
        "colab": {
          "base_uri": "https://localhost:8080/",
          "height": 634
        },
        "outputId": "c2bd750a-739f-4abb-a18c-a115bc95c434"
      },
      "execution_count": null,
      "outputs": [
        {
          "output_type": "stream",
          "name": "stdout",
          "text": [
            "     v1                                                 v2 Unnamed: 2  \\\n",
            "0   ham  Go until jurong point, crazy.. Available only ...        NaN   \n",
            "1   ham                      Ok lar... Joking wif u oni...        NaN   \n",
            "2  spam  Free entry in 2 a wkly comp to win FA Cup fina...        NaN   \n",
            "3   ham  U dun say so early hor... U c already then say...        NaN   \n",
            "4   ham  Nah I don't think he goes to usf, he lives aro...        NaN   \n",
            "\n",
            "  Unnamed: 3 Unnamed: 4  \n",
            "0        NaN        NaN  \n",
            "1        NaN        NaN  \n",
            "2        NaN        NaN  \n",
            "3        NaN        NaN  \n",
            "4        NaN        NaN  \n",
            "Index(['v1', 'v2', 'Unnamed: 2', 'Unnamed: 3', 'Unnamed: 4'], dtype='object')\n"
          ]
        },
        {
          "output_type": "error",
          "ename": "ValueError",
          "evalue": "Length mismatch: Expected axis has 5 elements, new values have 2 elements",
          "traceback": [
            "\u001b[0;31m---------------------------------------------------------------------------\u001b[0m",
            "\u001b[0;31mValueError\u001b[0m                                Traceback (most recent call last)",
            "\u001b[0;32m<ipython-input-3-b592bfb85809>\u001b[0m in \u001b[0;36m<cell line: 0>\u001b[0;34m()\u001b[0m\n\u001b[1;32m     17\u001b[0m \u001b[0;34m\u001b[0m\u001b[0m\n\u001b[1;32m     18\u001b[0m \u001b[0;31m# Assuming column v1 contains labels and column v2 contains the text, we just need to rename columns.\u001b[0m\u001b[0;34m\u001b[0m\u001b[0;34m\u001b[0m\u001b[0m\n\u001b[0;32m---> 19\u001b[0;31m \u001b[0mdf\u001b[0m\u001b[0;34m.\u001b[0m\u001b[0mcolumns\u001b[0m \u001b[0;34m=\u001b[0m \u001b[0;34m[\u001b[0m\u001b[0;34m'v1'\u001b[0m\u001b[0;34m,\u001b[0m \u001b[0;34m'v2'\u001b[0m\u001b[0;34m]\u001b[0m\u001b[0;34m\u001b[0m\u001b[0;34m\u001b[0m\u001b[0m\n\u001b[0m\u001b[1;32m     20\u001b[0m \u001b[0;34m\u001b[0m\u001b[0m\n\u001b[1;32m     21\u001b[0m \u001b[0;31m# ✅ Function to translate text to Hindi\u001b[0m\u001b[0;34m\u001b[0m\u001b[0;34m\u001b[0m\u001b[0m\n",
            "\u001b[0;32m/usr/local/lib/python3.11/dist-packages/pandas/core/generic.py\u001b[0m in \u001b[0;36m__setattr__\u001b[0;34m(self, name, value)\u001b[0m\n\u001b[1;32m   6311\u001b[0m         \u001b[0;32mtry\u001b[0m\u001b[0;34m:\u001b[0m\u001b[0;34m\u001b[0m\u001b[0;34m\u001b[0m\u001b[0m\n\u001b[1;32m   6312\u001b[0m             \u001b[0mobject\u001b[0m\u001b[0;34m.\u001b[0m\u001b[0m__getattribute__\u001b[0m\u001b[0;34m(\u001b[0m\u001b[0mself\u001b[0m\u001b[0;34m,\u001b[0m \u001b[0mname\u001b[0m\u001b[0;34m)\u001b[0m\u001b[0;34m\u001b[0m\u001b[0;34m\u001b[0m\u001b[0m\n\u001b[0;32m-> 6313\u001b[0;31m             \u001b[0;32mreturn\u001b[0m \u001b[0mobject\u001b[0m\u001b[0;34m.\u001b[0m\u001b[0m__setattr__\u001b[0m\u001b[0;34m(\u001b[0m\u001b[0mself\u001b[0m\u001b[0;34m,\u001b[0m \u001b[0mname\u001b[0m\u001b[0;34m,\u001b[0m \u001b[0mvalue\u001b[0m\u001b[0;34m)\u001b[0m\u001b[0;34m\u001b[0m\u001b[0;34m\u001b[0m\u001b[0m\n\u001b[0m\u001b[1;32m   6314\u001b[0m         \u001b[0;32mexcept\u001b[0m \u001b[0mAttributeError\u001b[0m\u001b[0;34m:\u001b[0m\u001b[0;34m\u001b[0m\u001b[0;34m\u001b[0m\u001b[0m\n\u001b[1;32m   6315\u001b[0m             \u001b[0;32mpass\u001b[0m\u001b[0;34m\u001b[0m\u001b[0;34m\u001b[0m\u001b[0m\n",
            "\u001b[0;32mproperties.pyx\u001b[0m in \u001b[0;36mpandas._libs.properties.AxisProperty.__set__\u001b[0;34m()\u001b[0m\n",
            "\u001b[0;32m/usr/local/lib/python3.11/dist-packages/pandas/core/generic.py\u001b[0m in \u001b[0;36m_set_axis\u001b[0;34m(self, axis, labels)\u001b[0m\n\u001b[1;32m    812\u001b[0m         \"\"\"\n\u001b[1;32m    813\u001b[0m         \u001b[0mlabels\u001b[0m \u001b[0;34m=\u001b[0m \u001b[0mensure_index\u001b[0m\u001b[0;34m(\u001b[0m\u001b[0mlabels\u001b[0m\u001b[0;34m)\u001b[0m\u001b[0;34m\u001b[0m\u001b[0;34m\u001b[0m\u001b[0m\n\u001b[0;32m--> 814\u001b[0;31m         \u001b[0mself\u001b[0m\u001b[0;34m.\u001b[0m\u001b[0m_mgr\u001b[0m\u001b[0;34m.\u001b[0m\u001b[0mset_axis\u001b[0m\u001b[0;34m(\u001b[0m\u001b[0maxis\u001b[0m\u001b[0;34m,\u001b[0m \u001b[0mlabels\u001b[0m\u001b[0;34m)\u001b[0m\u001b[0;34m\u001b[0m\u001b[0;34m\u001b[0m\u001b[0m\n\u001b[0m\u001b[1;32m    815\u001b[0m         \u001b[0mself\u001b[0m\u001b[0;34m.\u001b[0m\u001b[0m_clear_item_cache\u001b[0m\u001b[0;34m(\u001b[0m\u001b[0;34m)\u001b[0m\u001b[0;34m\u001b[0m\u001b[0;34m\u001b[0m\u001b[0m\n\u001b[1;32m    816\u001b[0m \u001b[0;34m\u001b[0m\u001b[0m\n",
            "\u001b[0;32m/usr/local/lib/python3.11/dist-packages/pandas/core/internals/managers.py\u001b[0m in \u001b[0;36mset_axis\u001b[0;34m(self, axis, new_labels)\u001b[0m\n\u001b[1;32m    236\u001b[0m     \u001b[0;32mdef\u001b[0m \u001b[0mset_axis\u001b[0m\u001b[0;34m(\u001b[0m\u001b[0mself\u001b[0m\u001b[0;34m,\u001b[0m \u001b[0maxis\u001b[0m\u001b[0;34m:\u001b[0m \u001b[0mAxisInt\u001b[0m\u001b[0;34m,\u001b[0m \u001b[0mnew_labels\u001b[0m\u001b[0;34m:\u001b[0m \u001b[0mIndex\u001b[0m\u001b[0;34m)\u001b[0m \u001b[0;34m->\u001b[0m \u001b[0;32mNone\u001b[0m\u001b[0;34m:\u001b[0m\u001b[0;34m\u001b[0m\u001b[0;34m\u001b[0m\u001b[0m\n\u001b[1;32m    237\u001b[0m         \u001b[0;31m# Caller is responsible for ensuring we have an Index object.\u001b[0m\u001b[0;34m\u001b[0m\u001b[0;34m\u001b[0m\u001b[0m\n\u001b[0;32m--> 238\u001b[0;31m         \u001b[0mself\u001b[0m\u001b[0;34m.\u001b[0m\u001b[0m_validate_set_axis\u001b[0m\u001b[0;34m(\u001b[0m\u001b[0maxis\u001b[0m\u001b[0;34m,\u001b[0m \u001b[0mnew_labels\u001b[0m\u001b[0;34m)\u001b[0m\u001b[0;34m\u001b[0m\u001b[0;34m\u001b[0m\u001b[0m\n\u001b[0m\u001b[1;32m    239\u001b[0m         \u001b[0mself\u001b[0m\u001b[0;34m.\u001b[0m\u001b[0maxes\u001b[0m\u001b[0;34m[\u001b[0m\u001b[0maxis\u001b[0m\u001b[0;34m]\u001b[0m \u001b[0;34m=\u001b[0m \u001b[0mnew_labels\u001b[0m\u001b[0;34m\u001b[0m\u001b[0;34m\u001b[0m\u001b[0m\n\u001b[1;32m    240\u001b[0m \u001b[0;34m\u001b[0m\u001b[0m\n",
            "\u001b[0;32m/usr/local/lib/python3.11/dist-packages/pandas/core/internals/base.py\u001b[0m in \u001b[0;36m_validate_set_axis\u001b[0;34m(self, axis, new_labels)\u001b[0m\n\u001b[1;32m     96\u001b[0m \u001b[0;34m\u001b[0m\u001b[0m\n\u001b[1;32m     97\u001b[0m         \u001b[0;32melif\u001b[0m \u001b[0mnew_len\u001b[0m \u001b[0;34m!=\u001b[0m \u001b[0mold_len\u001b[0m\u001b[0;34m:\u001b[0m\u001b[0;34m\u001b[0m\u001b[0;34m\u001b[0m\u001b[0m\n\u001b[0;32m---> 98\u001b[0;31m             raise ValueError(\n\u001b[0m\u001b[1;32m     99\u001b[0m                 \u001b[0;34mf\"Length mismatch: Expected axis has {old_len} elements, new \"\u001b[0m\u001b[0;34m\u001b[0m\u001b[0;34m\u001b[0m\u001b[0m\n\u001b[1;32m    100\u001b[0m                 \u001b[0;34mf\"values have {new_len} elements\"\u001b[0m\u001b[0;34m\u001b[0m\u001b[0;34m\u001b[0m\u001b[0m\n",
            "\u001b[0;31mValueError\u001b[0m: Length mismatch: Expected axis has 5 elements, new values have 2 elements"
          ]
        }
      ]
    },
    {
      "cell_type": "code",
      "source": [
        "import pandas as pd\n",
        "import requests\n",
        "\n",
        "# ✅ Replace with your actual API key and region\n",
        "API_KEY = \"FrN1fqSKqGS60hCdVaCuy46V63oF7Kp5M8dz3EJ8q3eDrkzG4jVPJQQJ99BBACYeBjFXJ3w3AAAbACOGzZGM\"\n",
        "LOCATION = \"eastus\"  # Example: \"westeurope\"\n",
        "\n",
        "# Microsoft Translator API endpoint\n",
        "ENDPOINT = \"https://api.cognitive.microsofttranslator.com/translate\"\n",
        "\n",
        "# ✅ Load CSV with correct encoding and select only needed columns\n",
        "df = pd.read_csv(\"/content/spam.csv\", encoding='ISO-8859-1')[['v1', 'v2']]\n",
        "\n",
        "# ✅ Limit translation to only the first 501 rows\n",
        "df = df.head(501)\n",
        "\n",
        "# ✅ Function to translate text to Hindi\n",
        "def translate_to_hindi(text):\n",
        "    if pd.isna(text):  # Skip empty values\n",
        "        return \"\"\n",
        "\n",
        "    params = {\n",
        "        \"api-version\": \"3.0\",\n",
        "        \"from\": \"en\",\n",
        "        \"to\": \"hi\"\n",
        "    }\n",
        "\n",
        "    headers = {\n",
        "        \"Ocp-Apim-Subscription-Key\": API_KEY,\n",
        "        \"Ocp-Apim-Subscription-Region\": LOCATION,\n",
        "        \"Content-Type\": \"application/json\"\n",
        "    }\n",
        "\n",
        "    body = [{\"text\": text}]\n",
        "\n",
        "    try:\n",
        "        response = requests.post(ENDPOINT, params=params, headers=headers, json=body)\n",
        "        response.raise_for_status()  # Raise error if request fails\n",
        "        return response.json()[0][\"translations\"][0][\"text\"]\n",
        "    except requests.exceptions.RequestException as e:\n",
        "        return f\"Error: {str(e)}\"  # Handle connection issues\n",
        "\n",
        "# ✅ Apply translation to v2 column (first 501 rows)\n",
        "df['v2'] = df['v2'].apply(translate_to_hindi)\n",
        "\n",
        "# ✅ Save the updated CSV\n",
        "df.to_csv(\"/content/translated_501_rows.csv\", index=False, encoding=\"utf-8-sig\")\n",
        "\n",
        "print(\"✅ Translation done for first 501 rows! File saved as 'translated_501_rows.csv'.\")\n"
      ],
      "metadata": {
        "colab": {
          "base_uri": "https://localhost:8080/"
        },
        "id": "GgLL3yhpjBbJ",
        "outputId": "0e52fe7e-01a5-4dd3-8f7d-e8dc547a351e"
      },
      "execution_count": null,
      "outputs": [
        {
          "output_type": "stream",
          "name": "stdout",
          "text": [
            "✅ Translation done for first 501 rows! File saved as 'translated_501_rows.csv'.\n"
          ]
        }
      ]
    },
    {
      "cell_type": "code",
      "source": [
        "import pandas as pd\n",
        "\n",
        "# ✅ Load CSV file with correct encoding\n",
        "df = pd.read_csv(\"/content/translated_501_rows.csv\", encoding=\"utf-8-sig\")\n",
        "\n",
        "# ✅ Ensure only needed columns are present\n",
        "df = df[['v1', 'v2']]  # Keeping only 'v1' and 'v2'\n",
        "\n",
        "# ✅ Create an empty list to store modified rows\n",
        "new_data = []\n",
        "\n",
        "i = 0\n",
        "while i < len(df):\n",
        "    new_data.append(df.iloc[i])  # Add the current row\n",
        "\n",
        "    if df.iloc[i]['v1'].lower() == 'spam':\n",
        "        new_data.append(df.iloc[i])  # Duplicate the spam row\n",
        "\n",
        "        if i + 1 < len(df) and df.iloc[i + 1]['v1'].lower() == 'ham':\n",
        "            i += 1  # Skip the next ham row\n",
        "\n",
        "    i += 1  # Move to the next row\n",
        "\n",
        "# ✅ Convert list back to DataFrame\n",
        "new_df = pd.DataFrame(new_data)\n",
        "\n",
        "# ✅ Save the updated file\n",
        "new_df.to_csv(\"balanced_translated1.csv\", index=False, encoding=\"utf-8-sig\")\n",
        "\n",
        "print(\"✅ Done! File saved as 'balanced_translated1.csv'.\")\n"
      ],
      "metadata": {
        "colab": {
          "base_uri": "https://localhost:8080/"
        },
        "id": "NdM-CGE8jHp8",
        "outputId": "3e7099c1-1b24-45d0-ac87-80a080a0c097"
      },
      "execution_count": null,
      "outputs": [
        {
          "output_type": "stream",
          "name": "stdout",
          "text": [
            "✅ Done! File saved as 'balanced_translated1.csv'.\n"
          ]
        }
      ]
    },
    {
      "cell_type": "code",
      "source": [
        "import pandas as pd\n",
        "\n",
        "# ✅ Load all four datasets\n",
        "telugu_google = pd.read_csv(\"/content/Telugu_google_balanced_translated.csv\")  # Telugu (Google)\n",
        "telugu_microsoft = pd.read_csv(\"/content/Telugu_microsoft_balanced_translated (1).csv\")  # Telugu (Microsoft)\n",
        "hindi_google = pd.read_csv(\"/content/balanced_dataset.csv\")  # Hindi (Google)\n",
        "hindi_microsoft = pd.read_csv(\"/content/balanced_translated1.csv\")  # Hindi (Microsoft)\n",
        "\n",
        "# ✅ Ensure column names are correct\n",
        "telugu_google.columns = ['v1', 'v2']\n",
        "telugu_microsoft.columns = ['v1', 'v2']\n",
        "hindi_google.columns = ['v1', 'v2']\n",
        "hindi_microsoft.columns = ['v1', 'v2']\n",
        "\n",
        "# ✅ Add metadata columns for language and translation source\n",
        "telugu_google['language'] = 'Telugu'\n",
        "telugu_google['source'] = 'Google'\n",
        "\n",
        "telugu_microsoft['language'] = 'Telugu'\n",
        "telugu_microsoft['source'] = 'Microsoft'\n",
        "\n",
        "hindi_google['language'] = 'Hindi'\n",
        "hindi_google['source'] = 'Google'\n",
        "\n",
        "hindi_microsoft['language'] = 'Hindi'\n",
        "hindi_microsoft['source'] = 'Microsoft'\n",
        "\n",
        "# ✅ Merge all datasets into one\n",
        "merged_df = pd.concat([telugu_google, telugu_microsoft, hindi_google, hindi_microsoft], ignore_index=True)\n",
        "\n",
        "# ✅ Remove duplicates (if any)\n",
        "merged_df.drop_duplicates(subset=['v1', 'v2'], keep='first', inplace=True)\n",
        "\n",
        "# ✅ Save the merged dataset\n",
        "merged_df.to_csv(\"merged_dataset.csv\", index=False)\n",
        "\n",
        "# ✅ Save the merged dataset as Excel (XLSX)\n",
        "merged_df.to_excel(\"merged_dataset.xlsx\", index=False, engine='openpyxl')\n",
        "\n",
        "# ✅ Display success message\n",
        "print(\"Merged dataset saved successfully as both CSV and XLSX!\")\n",
        "\n",
        "# ✅ Display the first few rows\n",
        "print(merged_df.head())\n"
      ],
      "metadata": {
        "colab": {
          "base_uri": "https://localhost:8080/"
        },
        "id": "TmgaqFiSoL6x",
        "outputId": "e5de27e7-8514-4a1c-ac88-6aa8fd8acbb8"
      },
      "execution_count": null,
      "outputs": [
        {
          "output_type": "stream",
          "name": "stdout",
          "text": [
            "Merged dataset saved successfully as both CSV and XLSX!\n",
            "     v1                                                 v2 language  source\n",
            "0   ham  జురాంగ్ పాయింట్ వరకు వెళ్ళండి, క్రేజీ .. బుగిస...   Telugu  Google\n",
            "1   ham               సరే లార్ ... జోకింగ్ వైఫ్ యు ఓని ...   Telugu  Google\n",
            "2  spam  FA కప్ ఫైనల్ TKTS ను గెలుచుకోవటానికి 2 లో ఉచిత...   Telugu  Google\n",
            "4   ham  అతను యుఎస్ఎఫ్ కి వెళ్తాడని నేను అనుకోను, అతను ...   Telugu  Google\n",
            "5  spam  Freemsg హే అక్కడ డార్లింగ్ ఇది ఇప్పుడు 3 వారాల...   Telugu  Google\n"
          ]
        }
      ]
    },
    {
      "cell_type": "code",
      "source": [
        "import pandas as pd\n",
        "\n",
        "# ✅ Load the merged dataset from XLSX\n",
        "df = pd.read_excel(\"/content/merged_dataset.xlsx\", engine='openpyxl')\n",
        "\n",
        "# ✅ Count the occurrences of each category (Ham & Spam)\n",
        "ham_count = (df['v1'] == 'ham').sum()\n",
        "spam_count = (df['v1'] == 'spam').sum()\n",
        "\n",
        "# ✅ Print the results\n",
        "print(f\"Total Ham messages: {ham_count}\")\n",
        "print(f\"Total Spam messages: {spam_count}\")\n"
      ],
      "metadata": {
        "id": "GKwCcEwwota1",
        "colab": {
          "base_uri": "https://localhost:8080/"
        },
        "outputId": "f18f4b93-3f0f-4450-8136-6a7075619831"
      },
      "execution_count": null,
      "outputs": [
        {
          "output_type": "stream",
          "name": "stdout",
          "text": [
            "Total Ham messages: 1415\n",
            "Total Spam messages: 277\n"
          ]
        }
      ]
    },
    {
      "cell_type": "code",
      "source": [
        "import pandas as pd\n",
        "\n",
        "# ✅ Load the merged dataset from XLSX\n",
        "df = pd.read_excel(\"/content/merged_dataset.xlsx\", engine='openpyxl')\n",
        "\n",
        "# ✅ Separate spam and ham rows based on the 'v1' column\n",
        "spam_df = df[df['v1'] == 'spam']\n",
        "ham_df = df[df['v1'] == 'ham']\n",
        "\n",
        "# ✅ Duplicate the spam messages (without removing ham rows)\n",
        "duplicated_spam_df = pd.concat([spam_df, spam_df], ignore_index=True)\n",
        "\n",
        "# ✅ Concatenate the duplicated spam rows with the ham rows\n",
        "final_df = pd.concat([duplicated_spam_df, ham_df], ignore_index=True)\n",
        "\n",
        "# ✅ Shuffle the final DataFrame to mix ham and spam rows randomly\n",
        "final_df = final_df.sample(frac=1).reset_index(drop=True)\n",
        "\n",
        "# ✅ Save the final dataset to a new xlsx file\n",
        "final_df.to_excel(\"updated_duplicated_spam_dataset.xlsx\", index=False)\n",
        "\n",
        "# ✅ Recount Ham and Spam by Language\n",
        "telugu_df = final_df[final_df[\"language\"] == \"Telugu\"]\n",
        "hindi_df = final_df[final_df[\"language\"] == \"Hindi\"]\n",
        "\n",
        "# ✅ Count Ham & Spam in Telugu dataset\n",
        "telugu_ham_count = (telugu_df['v1'] == 'ham').sum()\n",
        "telugu_spam_count = (telugu_df['v1'] == 'spam').sum()\n",
        "\n",
        "# ✅ Count Ham & Spam in Hindi dataset\n",
        "hindi_ham_count = (hindi_df['v1'] == 'ham').sum()\n",
        "hindi_spam_count = (hindi_df['v1'] == 'spam').sum()\n",
        "\n",
        "# ✅ Print the results\n",
        "print(\"Telugu Dataset (After Duplicating Spam Rows):\")\n",
        "print(f\"  Ham: {telugu_ham_count}\")\n",
        "print(f\"  Spam: {telugu_spam_count}\\n\")\n",
        "\n",
        "print(\"Hindi Dataset (After Duplicating Spam Rows):\")\n",
        "print(f\"  Ham: {hindi_ham_count}\")\n",
        "print(f\"  Spam: {hindi_spam_count}\")\n"
      ],
      "metadata": {
        "id": "Oj4ZamNsdcnf",
        "colab": {
          "base_uri": "https://localhost:8080/"
        },
        "outputId": "51a4c047-a899-4655-cf3c-368ab82f2bd2"
      },
      "execution_count": null,
      "outputs": [
        {
          "output_type": "stream",
          "name": "stdout",
          "text": [
            "Telugu Dataset (After Duplicating Spam Rows):\n",
            "  Ham: 710\n",
            "  Spam: 278\n",
            "\n",
            "Hindi Dataset (After Duplicating Spam Rows):\n",
            "  Ham: 705\n",
            "  Spam: 276\n"
          ]
        }
      ]
    },
    {
      "cell_type": "code",
      "source": [
        "import pandas as pd\n",
        "\n",
        "# ✅ Load the merged dataset from XLSX\n",
        "df = pd.read_excel(\"/content/updated_duplicated_spam_dataset.xlsx\", engine='openpyxl')\n",
        "\n",
        "# ✅ Count the occurrences of each category (Ham & Spam)\n",
        "ham_count = (df['v1'] == 'ham').sum()\n",
        "spam_count = (df['v1'] == 'spam').sum()\n",
        "\n",
        "# ✅ Print the results\n",
        "print(f\"Total Ham messages: {ham_count}\")\n",
        "print(f\"Total Spam messages: {spam_count}\")\n"
      ],
      "metadata": {
        "colab": {
          "base_uri": "https://localhost:8080/"
        },
        "id": "JkkMSnjMe8hq",
        "outputId": "02f05f3b-47af-4bbe-da8e-dcd3094cd33d"
      },
      "execution_count": null,
      "outputs": [
        {
          "output_type": "stream",
          "name": "stdout",
          "text": [
            "Total Ham messages: 1415\n",
            "Total Spam messages: 554\n"
          ]
        }
      ]
    },
    {
      "cell_type": "code",
      "source": [
        "# Import necessary libraries\n",
        "import pandas as pd\n",
        "import matplotlib.pyplot as plt\n",
        "import seaborn as sns\n",
        "from wordcloud import WordCloud\n",
        "from collections import Counter\n",
        "from textblob import TextBlob\n",
        "\n",
        "# Load the merged XLSX dataset\n",
        "file_path = \"/content/updated_duplicated_spam_dataset.xlsx\"\n",
        "df = pd.read_excel(file_path)\n",
        "\n",
        "# ------------------------- Basic Data Exploration -------------------------\n",
        "\n",
        "# Display first few rows to understand the structure\n",
        "print(\"Dataset Preview (First 5 Rows):\")\n",
        "print(df.head())\n",
        "\n",
        "# Check the structure of the dataset (column names, data types, missing values)\n",
        "print(\"\\nDataset Information:\")\n",
        "print(df.info())\n",
        "\n",
        "# ------------------------- Spam & Ham Count by Language -------------------------\n",
        "\n",
        "# Count the number of Spam and Ham messages for each language (Telugu/Hindi)\n",
        "language_spam_count = df.groupby(['language', 'v1']).size().unstack(fill_value=0)\n",
        "\n",
        "# Display the Spam/Ham count table for each language\n",
        "print(\"\\nSpam and Ham Count per Language:\")\n",
        "print(language_spam_count)\n",
        "\n",
        "# Plot Spam and Ham distribution across Telugu and Hindi\n",
        "plt.figure(figsize=(8, 6))\n",
        "sns.countplot(data=df, x='language', hue='v1', palette='Set1')\n",
        "\n",
        "# Add detailed labels\n",
        "plt.title(\"Spam vs Ham Distribution Across Telugu & Hindi\", fontsize=14, fontweight='bold')\n",
        "plt.xlabel(\"Language\", fontsize=12)\n",
        "plt.ylabel(\"Message Count\", fontsize=12)\n",
        "plt.legend(title=\"Message Type\", labels=[\"Ham (Legitimate)\", \"Spam (Phishing)\"])\n",
        "plt.grid(axis='y', linestyle='--', alpha=0.6)\n",
        "plt.show()\n",
        "\n",
        "# ------------------------- Spam & Ham Count by Translation Source -------------------------\n",
        "\n",
        "# Count Spam and Ham messages for both Google and Microsoft translations\n",
        "source_spam_count = df.groupby(['source', 'v1']).size().unstack(fill_value=0)\n",
        "\n",
        "# Display the Spam/Ham count table for each translation source\n",
        "print(\"\\nSpam and Ham Count per Translation Source:\")\n",
        "print(source_spam_count)\n",
        "\n",
        "# Plot Spam and Ham distribution across Google and Microsoft Translations\n",
        "plt.figure(figsize=(8, 6))\n",
        "sns.countplot(data=df, x='source', hue='v1', palette='Set2')\n",
        "\n",
        "# Add detailed labels\n",
        "plt.title(\"Spam vs Ham Distribution Across Google & Microsoft Translations\", fontsize=14, fontweight='bold')\n",
        "plt.xlabel(\"Translation Source\", fontsize=12)\n",
        "plt.ylabel(\"Message Count\", fontsize=12)\n",
        "plt.legend(title=\"Message Type\", labels=[\"Ham (Legitimate)\", \"Spam (Phishing)\"])\n",
        "plt.grid(axis='y', linestyle='--', alpha=0.6)\n",
        "plt.show()\n",
        "\n",
        "# ------------------------- Word Cloud Visualization for Spam Messages -------------------------\n",
        "\n",
        "# Combine all Spam messages into one large text string for analysis\n",
        "spam_text = \" \".join(df[df['v1'] == 'spam']['v2'].dropna())\n",
        "\n",
        "# Generate a word cloud for spam messages\n",
        "wordcloud_spam = WordCloud(\n",
        "    width=1000, height=500,\n",
        "    background_color='black',\n",
        "    colormap='Reds',\n",
        "    max_words=100,  # Limit to 100 most frequent words\n",
        "    contour_color='white',\n",
        "    contour_width=2\n",
        ").generate(spam_text)\n",
        "\n",
        "# Plot the Spam word cloud\n",
        "plt.figure(figsize=(12, 6))\n",
        "plt.imshow(wordcloud_spam, interpolation='bilinear')\n",
        "plt.axis('off')\n",
        "\n",
        "# Add a title to make the graph clear\n",
        "plt.title('Most Frequent Words in Spam Messages (Phishing/Scam)', fontsize=14, fontweight='bold', color='red')\n",
        "plt.show()\n",
        "\n",
        "# ------------------------- Word Cloud Visualization for Ham Messages -------------------------\n",
        "\n",
        "# Combine all Ham messages into one large text string for analysis\n",
        "ham_text = \" \".join(df[df['v1'] == 'ham']['v2'].dropna())\n",
        "\n",
        "# Generate a word cloud for ham messages\n",
        "wordcloud_ham = WordCloud(\n",
        "    width=1000, height=500,\n",
        "    background_color='black',\n",
        "    colormap='Blues',\n",
        "    max_words=100,  # Limit to 100 most frequent words\n",
        "    contour_color='white',\n",
        "    contour_width=2\n",
        ").generate(ham_text)\n",
        "\n",
        "# Plot the Ham word cloud\n",
        "plt.figure(figsize=(12, 6))\n",
        "plt.imshow(wordcloud_ham, interpolation='bilinear')\n",
        "plt.axis('off')\n",
        "\n",
        "# Add a title to make the graph clear\n",
        "plt.title('Most Frequent Words in Ham Messages (Legitimate)', fontsize=14, fontweight='bold', color='blue')\n",
        "plt.show()\n",
        "\n",
        "# ------------------------- Sentiment Analysis on Spam & Ham Messages -------------------------\n",
        "\n",
        "# Apply sentiment analysis using TextBlob\n",
        "df['sentiment'] = df['v2'].apply(lambda x: TextBlob(str(x)).sentiment.polarity)\n",
        "\n",
        "# Plot sentiment distribution for Spam vs Ham messages\n",
        "plt.figure(figsize=(8, 6))\n",
        "\n",
        "sns.histplot(df[df['v1'] == 'spam']['sentiment'], kde=True, color='red', label='Spam', bins=20)\n",
        "sns.histplot(df[df['v1'] == 'ham']['sentiment'], kde=True, color='green', label='Ham', bins=20)\n",
        "\n",
        "# Add labels\n",
        "plt.title(\"Sentiment Score Distribution of Spam vs Ham Messages\", fontsize=14, fontweight='bold')\n",
        "plt.xlabel(\"Sentiment Polarity (-1 = Negative, 1 = Positive)\", fontsize=12)\n",
        "plt.ylabel(\"Frequency\", fontsize=12)\n",
        "plt.legend()\n",
        "plt.grid(axis='y', linestyle='--', alpha=0.6)\n",
        "plt.show()\n"
      ],
      "metadata": {
        "colab": {
          "base_uri": "https://localhost:8080/",
          "height": 1000
        },
        "id": "wTKYkLSjgJkT",
        "outputId": "64c69993-6e94-4165-f7cc-2107ba1d1e74"
      },
      "execution_count": null,
      "outputs": [
        {
          "output_type": "stream",
          "name": "stdout",
          "text": [
            "Dataset Preview (First 5 Rows):\n",
            "    v1                                                 v2 language     source\n",
            "0  ham          जोस पूछते हैं कि क्या आप मिलना चाहते हैं?    Hindi     Google\n",
            "1  ham  ఆయన అక్కడే ఉన్నారు. మీరు అతడికి ఫోన్ చేసి కలుస...   Telugu  Microsoft\n",
            "2  ham  ఉపాధ్యాయుడి కంటే జీవితం చాలా కఠినమైనది ... Bco...   Telugu     Google\n",
            "3  ham  बहुत खूब। आप ठीक कह रहे हैं! मुझे ऐसा करने का ...    Hindi     Google\n",
            "4  ham               आप अपनी बाइक की सवारी कब कर रहे हैं?    Hindi     Google\n",
            "\n",
            "Dataset Information:\n",
            "<class 'pandas.core.frame.DataFrame'>\n",
            "RangeIndex: 1969 entries, 0 to 1968\n",
            "Data columns (total 4 columns):\n",
            " #   Column    Non-Null Count  Dtype \n",
            "---  ------    --------------  ----- \n",
            " 0   v1        1969 non-null   object\n",
            " 1   v2        1969 non-null   object\n",
            " 2   language  1969 non-null   object\n",
            " 3   source    1969 non-null   object\n",
            "dtypes: object(4)\n",
            "memory usage: 61.7+ KB\n",
            "None\n",
            "\n",
            "Spam and Ham Count per Language:\n",
            "v1        ham  spam\n",
            "language           \n",
            "Hindi     705   276\n",
            "Telugu    710   278\n"
          ]
        },
        {
          "output_type": "display_data",
          "data": {
            "text/plain": [
              "<Figure size 800x600 with 1 Axes>"
            ],
            "image/png": "[encoded data removed]"
          },
          "metadata": {}
        },
        {
          "output_type": "stream",
          "name": "stdout",
          "text": [
            "\n",
            "Spam and Ham Count per Translation Source:\n",
            "v1         ham  spam\n",
            "source              \n",
            "Google     720   276\n",
            "Microsoft  695   278\n"
          ]
        },
        {
          "output_type": "display_data",
          "data": {
            "text/plain": [
              "<Figure size 800x600 with 1 Axes>"
            ],
            "image/png": "[encoded data removed]"
          },
          "metadata": {}
        },
        {
          "output_type": "display_data",
          "data": {
            "text/plain": [
              "<Figure size 1200x600 with 1 Axes>"
            ],
            "image/png": "[encoded data removed]"
          },
          "metadata": {}
        },
        {
          "output_type": "display_data",
          "data": {
            "text/plain": [
              "<Figure size 1200x600 with 1 Axes>"
            ],
            "image/png": "[encoded data removed]"
          },
          "metadata": {}
        },
        {
          "output_type": "display_data",
          "data": {
            "text/plain": [
              "<Figure size 800x600 with 1 Axes>"
            ],
            "image/png": "[encoded data removed]"
          },
          "metadata": {}
        }
      ]
    },
    {
      "cell_type": "markdown",
      "source": [
        "# ** Text Preprocessing & TF-IDF Feature Extraction **"
      ],
      "metadata": {
        "id": "qPL14qaOnqlh"
      }
    },
    {
      "cell_type": "code",
      "source": [
        "import pandas as pd\n",
        "import re\n",
        "import nltk\n",
        "from nltk.corpus import stopwords\n",
        "from sklearn.feature_extraction.text import TfidfVectorizer\n",
        "\n",
        "# Download stopwords for Hindi and Telugu\n",
        "nltk.download(\"stopwords\")\n",
        "hindi_stopwords = set(stopwords.words(\"english\"))  # Replace with actual Hindi stopwords\n",
        "# Telugu stopwords need to be manually added or sourced\n",
        "\n",
        "def preprocess_text(text):\n",
        "    # Convert to lowercase\n",
        "    text = text.lower()\n",
        "\n",
        "    # Remove special characters and numbers\n",
        "    text = re.sub(r'[^\\w\\s]', '', text)\n",
        "    text = re.sub(r'\\d+', '', text)\n",
        "\n",
        "    # Tokenization\n",
        "    tokens = text.split()\n",
        "\n",
        "    # Remove stopwords (Assuming English for now, extend with Hindi & Telugu lists)\n",
        "    tokens = [word for word in tokens if word not in hindi_stopwords]\n",
        "\n",
        "    return \" \".join(tokens)\n",
        "\n",
        "# Load the dataset\n",
        "file_path = \"/content/updated_duplicated_spam_dataset.xlsx\"  # Update with actual file path\n",
        "df = pd.read_excel(file_path)\n",
        "\n",
        "# Apply preprocessing\n",
        "df['cleaned_text'] = df['v2'].astype(str).apply(preprocess_text)\n",
        "\n",
        "# TF-IDF Vectorization\n",
        "tfidf_vectorizer = TfidfVectorizer(max_features=5000)  # Use top 5000 words\n",
        "X_tfidf = tfidf_vectorizer.fit_transform(df['cleaned_text'])\n",
        "\n",
        "# Convert to DataFrame\n",
        "X_tfidf_df = pd.DataFrame(X_tfidf.toarray(), columns=tfidf_vectorizer.get_feature_names_out())\n",
        "\n",
        "# Save processed dataset\n",
        "df.to_excel(\"preprocessed_dataset.xlsx\", index=False)\n",
        "\n",
        "print(\"✅ Text preprocessing and TF-IDF feature extraction completed!\")\n"
      ],
      "metadata": {
        "colab": {
          "base_uri": "https://localhost:8080/"
        },
        "id": "uYzNoSpdk0kG",
        "outputId": "d490f39c-866f-4845-9f11-13637011e037"
      },
      "execution_count": null,
      "outputs": [
        {
          "output_type": "stream",
          "name": "stderr",
          "text": [
            "[nltk_data] Downloading package stopwords to /root/nltk_data...\n",
            "[nltk_data]   Unzipping corpora/stopwords.zip.\n"
          ]
        },
        {
          "output_type": "stream",
          "name": "stdout",
          "text": [
            "✅ Text preprocessing and TF-IDF feature extraction completed!\n"
          ]
        }
      ]
    },
    {
      "cell_type": "code",
      "source": [
        "df = pd.read_excel(\"/content/preprocessed_dataset.xlsx\")\n",
        "df.head()"
      ],
      "metadata": {
        "colab": {
          "base_uri": "https://localhost:8080/",
          "height": 241
        },
        "id": "cKycOryapukj",
        "outputId": "4ad03ad1-0a1b-4c72-e1f9-639d8f2b3f93"
      },
      "execution_count": null,
      "outputs": [
        {
          "output_type": "execute_result",
          "data": {
            "text/plain": [
              "    v1                                                 v2 language     source  \\\n",
              "0  ham          जोस पूछते हैं कि क्या आप मिलना चाहते हैं?    Hindi     Google   \n",
              "1  ham  ఆయన అక్కడే ఉన్నారు. మీరు అతడికి ఫోన్ చేసి కలుస...   Telugu  Microsoft   \n",
              "2  ham  ఉపాధ్యాయుడి కంటే జీవితం చాలా కఠినమైనది ... Bco...   Telugu     Google   \n",
              "3  ham  बहुत खूब। आप ठीक कह रहे हैं! मुझे ऐसा करने का ...    Hindi     Google   \n",
              "4  ham               आप अपनी बाइक की सवारी कब कर रहे हैं?    Hindi     Google   \n",
              "\n",
              "                                        cleaned_text  \n",
              "0                         जस पछत ह क कय आप मलन चहत ह  \n",
              "1                  ఆయన అకకడ ఉననర మర అతడక ఫన చస కలసతర  \n",
              "2  ఉపధయయడ కట జవత చల కఠనమనద bcoz ఉపధయయడ పఠ బధసతడ a...  \n",
              "3  बहत खब आप ठक कह रह ह मझ ऐस करन क मतलब नह थ मझ ...  \n",
              "4                        आप अपन बइक क सवर कब कर रह ह  "
            ],
            "text/html": [
              "\n",
              "  <div id=\"df-3926cbc4-9853-4a54-8992-69f486e42c83\" class=\"colab-df-container\">\n",
              "    <div>\n",
              "<style scoped>\n",
              "    .dataframe tbody tr th:only-of-type {\n",
              "        vertical-align: middle;\n",
              "    }\n",
              "\n",
              "    .dataframe tbody tr th {\n",
              "        vertical-align: top;\n",
              "    }\n",
              "\n",
              "    .dataframe thead th {\n",
              "        text-align: right;\n",
              "    }\n",
              "</style>\n",
              "<table border=\"1\" class=\"dataframe\">\n",
              "  <thead>\n",
              "    <tr style=\"text-align: right;\">\n",
              "      <th></th>\n",
              "      <th>v1</th>\n",
              "      <th>v2</th>\n",
              "      <th>language</th>\n",
              "      <th>source</th>\n",
              "      <th>cleaned_text</th>\n",
              "    </tr>\n",
              "  </thead>\n",
              "  <tbody>\n",
              "    <tr>\n",
              "      <th>0</th>\n",
              "      <td>ham</td>\n",
              "      <td>जोस पूछते हैं कि क्या आप मिलना चाहते हैं?</td>\n",
              "      <td>Hindi</td>\n",
              "      <td>Google</td>\n",
              "      <td>जस पछत ह क कय आप मलन चहत ह</td>\n",
              "    </tr>\n",
              "    <tr>\n",
              "      <th>1</th>\n",
              "      <td>ham</td>\n",
              "      <td>ఆయన అక్కడే ఉన్నారు. మీరు అతడికి ఫోన్ చేసి కలుస...</td>\n",
              "      <td>Telugu</td>\n",
              "      <td>Microsoft</td>\n",
              "      <td>ఆయన అకకడ ఉననర మర అతడక ఫన చస కలసతర</td>\n",
              "    </tr>\n",
              "    <tr>\n",
              "      <th>2</th>\n",
              "      <td>ham</td>\n",
              "      <td>ఉపాధ్యాయుడి కంటే జీవితం చాలా కఠినమైనది ... Bco...</td>\n",
              "      <td>Telugu</td>\n",
              "      <td>Google</td>\n",
              "      <td>ఉపధయయడ కట జవత చల కఠనమనద bcoz ఉపధయయడ పఠ బధసతడ a...</td>\n",
              "    </tr>\n",
              "    <tr>\n",
              "      <th>3</th>\n",
              "      <td>ham</td>\n",
              "      <td>बहुत खूब। आप ठीक कह रहे हैं! मुझे ऐसा करने का ...</td>\n",
              "      <td>Hindi</td>\n",
              "      <td>Google</td>\n",
              "      <td>बहत खब आप ठक कह रह ह मझ ऐस करन क मतलब नह थ मझ ...</td>\n",
              "    </tr>\n",
              "    <tr>\n",
              "      <th>4</th>\n",
              "      <td>ham</td>\n",
              "      <td>आप अपनी बाइक की सवारी कब कर रहे हैं?</td>\n",
              "      <td>Hindi</td>\n",
              "      <td>Google</td>\n",
              "      <td>आप अपन बइक क सवर कब कर रह ह</td>\n",
              "    </tr>\n",
              "  </tbody>\n",
              "</table>\n",
              "</div>\n",
              "    <div class=\"colab-df-buttons\">\n",
              "\n",
              "  <div class=\"colab-df-container\">\n",
              "    <button class=\"colab-df-convert\" onclick=\"convertToInteractive('df-3926cbc4-9853-4a54-8992-69f486e42c83')\"\n",
              "            title=\"Convert this dataframe to an interactive table.\"\n",
              "            style=\"display:none;\">\n",
              "\n",
              "  <svg xmlns=\"http://www.w3.org/2000/svg\" height=\"24px\" viewBox=\"0 -960 960 960\">\n",
              "    <path d=\"M120-120v-720h720v720H120Zm60-500h600v-160H180v160Zm220 220h160v-160H400v160Zm0 220h160v-160H400v160ZM180-400h160v-160H180v160Zm440 0h160v-160H620v160ZM180-180h160v-160H180v160Zm440 0h160v-160H620v160Z\"/>\n",
              "  </svg>\n",
              "    </button>\n",
              "\n",
              "  <style>\n",
              "    .colab-df-container {\n",
              "      display:flex;\n",
              "      gap: 12px;\n",
              "    }\n",
              "\n",
              "    .colab-df-convert {\n",
              "      background-color: #E8F0FE;\n",
              "      border: none;\n",
              "      border-radius: 50%;\n",
              "      cursor: pointer;\n",
              "      display: none;\n",
              "      fill: #1967D2;\n",
              "      height: 32px;\n",
              "      padding: 0 0 0 0;\n",
              "      width: 32px;\n",
              "    }\n",
              "\n",
              "    .colab-df-convert:hover {\n",
              "      background-color: #E2EBFA;\n",
              "      box-shadow: 0px 1px 2px rgba(60, 64, 67, 0.3), 0px 1px 3px 1px rgba(60, 64, 67, 0.15);\n",
              "      fill: #174EA6;\n",
              "    }\n",
              "\n",
              "    .colab-df-buttons div {\n",
              "      margin-bottom: 4px;\n",
              "    }\n",
              "\n",
              "    [theme=dark] .colab-df-convert {\n",
              "      background-color: #3B4455;\n",
              "      fill: #D2E3FC;\n",
              "    }\n",
              "\n",
              "    [theme=dark] .colab-df-convert:hover {\n",
              "      background-color: #434B5C;\n",
              "      box-shadow: 0px 1px 3px 1px rgba(0, 0, 0, 0.15);\n",
              "      filter: drop-shadow(0px 1px 2px rgba(0, 0, 0, 0.3));\n",
              "      fill: #FFFFFF;\n",
              "    }\n",
              "  </style>\n",
              "\n",
              "    <script>\n",
              "      const buttonEl =\n",
              "        document.querySelector('#df-3926cbc4-9853-4a54-8992-69f486e42c83 button.colab-df-convert');\n",
              "      buttonEl.style.display =\n",
              "        google.colab.kernel.accessAllowed ? 'block' : 'none';\n",
              "\n",
              "      async function convertToInteractive(key) {\n",
              "        const element = document.querySelector('#df-3926cbc4-9853-4a54-8992-69f486e42c83');\n",
              "        const dataTable =\n",
              "          await google.colab.kernel.invokeFunction('convertToInteractive',\n",
              "                                                    [key], {});\n",
              "        if (!dataTable) return;\n",
              "\n",
              "        const docLinkHtml = 'Like what you see? Visit the ' +\n",
              "          '<a target=\"_blank\" href=https://colab.research.google.com/notebooks/data_table.ipynb>data table notebook</a>'\n",
              "          + ' to learn more about interactive tables.';\n",
              "        element.innerHTML = '';\n",
              "        dataTable['output_type'] = 'display_data';\n",
              "        await google.colab.output.renderOutput(dataTable, element);\n",
              "        const docLink = document.createElement('div');\n",
              "        docLink.innerHTML = docLinkHtml;\n",
              "        element.appendChild(docLink);\n",
              "      }\n",
              "    </script>\n",
              "  </div>\n",
              "\n",
              "\n",
              "<div id=\"df-27e05b23-78b6-4b5c-9839-c4e546180d07\">\n",
              "  <button class=\"colab-df-quickchart\" onclick=\"quickchart('df-27e05b23-78b6-4b5c-9839-c4e546180d07')\"\n",
              "            title=\"Suggest charts\"\n",
              "            style=\"display:none;\">\n",
              "\n",
              "<svg xmlns=\"http://www.w3.org/2000/svg\" height=\"24px\"viewBox=\"0 0 24 24\"\n",
              "     width=\"24px\">\n",
              "    <g>\n",
              "        <path d=\"M19 3H5c-1.1 0-2 .9-2 2v14c0 1.1.9 2 2 2h14c1.1 0 2-.9 2-2V5c0-1.1-.9-2-2-2zM9 17H7v-7h2v7zm4 0h-2V7h2v10zm4 0h-2v-4h2v4z\"/>\n",
              "    </g>\n",
              "</svg>\n",
              "  </button>\n",
              "\n",
              "<style>\n",
              "  .colab-df-quickchart {\n",
              "      --bg-color: #E8F0FE;\n",
              "      --fill-color: #1967D2;\n",
              "      --hover-bg-color: #E2EBFA;\n",
              "      --hover-fill-color: #174EA6;\n",
              "      --disabled-fill-color: #AAA;\n",
              "      --disabled-bg-color: #DDD;\n",
              "  }\n",
              "\n",
              "  [theme=dark] .colab-df-quickchart {\n",
              "      --bg-color: #3B4455;\n",
              "      --fill-color: #D2E3FC;\n",
              "      --hover-bg-color: #434B5C;\n",
              "      --hover-fill-color: #FFFFFF;\n",
              "      --disabled-bg-color: #3B4455;\n",
              "      --disabled-fill-color: #666;\n",
              "  }\n",
              "\n",
              "  .colab-df-quickchart {\n",
              "    background-color: var(--bg-color);\n",
              "    border: none;\n",
              "    border-radius: 50%;\n",
              "    cursor: pointer;\n",
              "    display: none;\n",
              "    fill: var(--fill-color);\n",
              "    height: 32px;\n",
              "    padding: 0;\n",
              "    width: 32px;\n",
              "  }\n",
              "\n",
              "  .colab-df-quickchart:hover {\n",
              "    background-color: var(--hover-bg-color);\n",
              "    box-shadow: 0 1px 2px rgba(60, 64, 67, 0.3), 0 1px 3px 1px rgba(60, 64, 67, 0.15);\n",
              "    fill: var(--button-hover-fill-color);\n",
              "  }\n",
              "\n",
              "  .colab-df-quickchart-complete:disabled,\n",
              "  .colab-df-quickchart-complete:disabled:hover {\n",
              "    background-color: var(--disabled-bg-color);\n",
              "    fill: var(--disabled-fill-color);\n",
              "    box-shadow: none;\n",
              "  }\n",
              "\n",
              "  .colab-df-spinner {\n",
              "    border: 2px solid var(--fill-color);\n",
              "    border-color: transparent;\n",
              "    border-bottom-color: var(--fill-color);\n",
              "    animation:\n",
              "      spin 1s steps(1) infinite;\n",
              "  }\n",
              "\n",
              "  @keyframes spin {\n",
              "    0% {\n",
              "      border-color: transparent;\n",
              "      border-bottom-color: var(--fill-color);\n",
              "      border-left-color: var(--fill-color);\n",
              "    }\n",
              "    20% {\n",
              "      border-color: transparent;\n",
              "      border-left-color: var(--fill-color);\n",
              "      border-top-color: var(--fill-color);\n",
              "    }\n",
              "    30% {\n",
              "      border-color: transparent;\n",
              "      border-left-color: var(--fill-color);\n",
              "      border-top-color: var(--fill-color);\n",
              "      border-right-color: var(--fill-color);\n",
              "    }\n",
              "    40% {\n",
              "      border-color: transparent;\n",
              "      border-right-color: var(--fill-color);\n",
              "      border-top-color: var(--fill-color);\n",
              "    }\n",
              "    60% {\n",
              "      border-color: transparent;\n",
              "      border-right-color: var(--fill-color);\n",
              "    }\n",
              "    80% {\n",
              "      border-color: transparent;\n",
              "      border-right-color: var(--fill-color);\n",
              "      border-bottom-color: var(--fill-color);\n",
              "    }\n",
              "    90% {\n",
              "      border-color: transparent;\n",
              "      border-bottom-color: var(--fill-color);\n",
              "    }\n",
              "  }\n",
              "</style>\n",
              "\n",
              "  <script>\n",
              "    async function quickchart(key) {\n",
              "      const quickchartButtonEl =\n",
              "        document.querySelector('#' + key + ' button');\n",
              "      quickchartButtonEl.disabled = true;  // To prevent multiple clicks.\n",
              "      quickchartButtonEl.classList.add('colab-df-spinner');\n",
              "      try {\n",
              "        const charts = await google.colab.kernel.invokeFunction(\n",
              "            'suggestCharts', [key], {});\n",
              "      } catch (error) {\n",
              "        console.error('Error during call to suggestCharts:', error);\n",
              "      }\n",
              "      quickchartButtonEl.classList.remove('colab-df-spinner');\n",
              "      quickchartButtonEl.classList.add('colab-df-quickchart-complete');\n",
              "    }\n",
              "    (() => {\n",
              "      let quickchartButtonEl =\n",
              "        document.querySelector('#df-27e05b23-78b6-4b5c-9839-c4e546180d07 button');\n",
              "      quickchartButtonEl.style.display =\n",
              "        google.colab.kernel.accessAllowed ? 'block' : 'none';\n",
              "    })();\n",
              "  </script>\n",
              "</div>\n",
              "\n",
              "    </div>\n",
              "  </div>\n"
            ],
            "application/vnd.google.colaboratory.intrinsic+json": {
              "type": "dataframe",
              "variable_name": "df",
              "summary": "{\n  \"name\": \"df\",\n  \"rows\": 1969,\n  \"fields\": [\n    {\n      \"column\": \"v1\",\n      \"properties\": {\n        \"dtype\": \"category\",\n        \"num_unique_values\": 2,\n        \"samples\": [\n          \"spam\",\n          \"ham\"\n        ],\n        \"semantic_type\": \"\",\n        \"description\": \"\"\n      }\n    },\n    {\n      \"column\": \"v2\",\n      \"properties\": {\n        \"dtype\": \"string\",\n        \"num_unique_values\": 1691,\n        \"samples\": [\n          \"\\u0c0e\\u0c02\\u0c26\\u0c41\\u0c15\\u0c02\\u0c1f\\u0c47 \\u0c05\\u0c26\\u0c3f \\u0c28\\u0c40 \\u0c35\\u0c3f\\u0c37\\u0c2f\\u0c02 \\u0c15\\u0c3e\\u0c35\\u0c3e\\u0c32\\u0c28\\u0c3f \\u0c15\\u0c4b\\u0c30\\u0c41\\u0c15\\u0c41\\u0c02\\u0c1f\\u0c41\\u0c28\\u0c4d\\u0c28\\u0c3e\\u0c28\\u0c41.\",\n          \"\\u0c2e\\u0c40\\u0c30\\u0c41 \\u0c0e\\u0c32\\u0c4d\\u0c32\\u0c2a\\u0c4d\\u0c2a\\u0c41\\u0c21\\u0c42 \\u0c1a\\u0c3e\\u0c32\\u0c3e \\u0c28\\u0c2e\\u0c4d\\u0c2e\\u0c26\\u0c17\\u0c3f\\u0c28\\u0c35\\u0c3e\\u0c30\\u0c41.\"\n        ],\n        \"semantic_type\": \"\",\n        \"description\": \"\"\n      }\n    },\n    {\n      \"column\": \"language\",\n      \"properties\": {\n        \"dtype\": \"category\",\n        \"num_unique_values\": 2,\n        \"samples\": [\n          \"Telugu\",\n          \"Hindi\"\n        ],\n        \"semantic_type\": \"\",\n        \"description\": \"\"\n      }\n    },\n    {\n      \"column\": \"source\",\n      \"properties\": {\n        \"dtype\": \"category\",\n        \"num_unique_values\": 2,\n        \"samples\": [\n          \"Microsoft\",\n          \"Google\"\n        ],\n        \"semantic_type\": \"\",\n        \"description\": \"\"\n      }\n    },\n    {\n      \"column\": \"cleaned_text\",\n      \"properties\": {\n        \"dtype\": \"string\",\n        \"num_unique_values\": 1670,\n        \"samples\": [\n          \"\\u0c05\\u0c35\\u0c28 \\u0c07\\u0c26 \\u0c2a\\u0c30\\u0c24\\u0c17 \\u0c30\\u0c2a\\u0c32 \\u0c09\\u0c26 \\u0c15\\u0c32\\u0c30\\u0c15 \\u0c15\\u0c21 \\u0c35\\u0c2f\\u0c30\\u0c25\\u0c32\\u0c28 \\u0c2a\\u0c30\\u0c24\\u0c17\",\n          \"\\u0c08 \\u0c30\\u0c24\\u0c30\\u0c15 \\u0c35\\u0c2f\\u0c32\\u0c28\\u0c15\\u0c1f\\u0c28\\u0c28\\u0c30 \\u0c28\\u0c1c\\u0c2e\\u0c28 \\u0c21\\u0c17\\u0c17 \\u0c32\\u0c15\\u0c37\\u0c28 \\u0c32 \\u0c21\\u0c30\\u0c15\\u0c1f \\u0c2e \\u0c17\\u0c2a\\u0c15 \\u0c2a\\u0c2a\\u0c32\\u0c28\\u0c15\\u0c1f\\u0c28\\u0c28\\u0c30 \\u0c2f\\u0c15 \\u0c2f\\u0c15\\u0c15 \\u0c05\\u0c24\\u0c2a\\u0c26\\u0c26 \\u0c21\\u0c17\\u0c17 \\u0c28\\u0c1f \\u0c35\\u0c30\\u0c15 \\u0c15 \\u0c1f\\u0c15\\u0c1f\\u0c17 \\u0c17\\u0c30\\u0c35\\u0c32 \\u0c24 \\u0c1a\\u0c30\\u0c21 nt eca pmsgp\"\n        ],\n        \"semantic_type\": \"\",\n        \"description\": \"\"\n      }\n    }\n  ]\n}"
            }
          },
          "metadata": {},
          "execution_count": 19
        }
      ]
    },
    {
      "cell_type": "code",
      "source": [
        "import pandas as pd\n",
        "from sklearn.model_selection import train_test_split\n",
        "from sklearn.feature_extraction.text import TfidfVectorizer\n",
        "import joblib\n",
        "\n",
        "# Load the preprocessed dataset\n",
        "df = pd.read_excel(\"/content/preprocessed_dataset.xlsx\")\n",
        "\n",
        "# Ensure we use the cleaned text column\n",
        "X = df[\"cleaned_text\"]  # Features (text data)\n",
        "y = df[\"v1\"]  # Labels (ham/spam)\n",
        "\n",
        "# Convert text into numerical form using TF-IDF\n",
        "vectorizer = TfidfVectorizer(max_features=5000)  # Limit to top 5000 features\n",
        "X_tfidf = vectorizer.fit_transform(X)\n",
        "\n",
        "# Split data into training (70%) and temp (30%)\n",
        "X_train, X_temp, y_train, y_temp = train_test_split(X_tfidf, y, test_size=0.3, random_state=42, stratify=y)\n",
        "\n",
        "# Further split temp into validation (15%) and testing (15%)\n",
        "X_val, X_test, y_val, y_test = train_test_split(X_temp, y_temp, test_size=0.5, random_state=42, stratify=y_temp)\n",
        "\n",
        "# Save the TF-IDF vectorizer and dataset splits\n",
        "joblib.dump(vectorizer, \"tfidf_vectorizer.pkl\")\n",
        "joblib.dump((X_train, X_val, X_test, y_train, y_val, y_test), \"train_val_test_data.pkl\")\n",
        "\n",
        "print(\"✅ TF-IDF transformation complete! Data split into 70% training, 15% validation, and 15% testing.\")\n"
      ],
      "metadata": {
        "colab": {
          "base_uri": "https://localhost:8080/"
        },
        "id": "vt-0HW68n58E",
        "outputId": "995f4b41-325b-4389-a824-dbfbb5146464"
      },
      "execution_count": null,
      "outputs": [
        {
          "output_type": "stream",
          "name": "stdout",
          "text": [
            "✅ TF-IDF transformation complete! Data split into 70% training, 15% validation, and 15% testing.\n"
          ]
        }
      ]
    },
    {
      "cell_type": "markdown",
      "source": [
        "# **Logistic Regression**"
      ],
      "metadata": {
        "id": "Awu4s3_L3Hg2"
      }
    },
    {
      "cell_type": "code",
      "source": [
        "import os\n",
        "\n",
        "file_path = \"/content/train_val_test_data.pkl\"\n",
        "print(f\"File Size: {os.path.getsize(file_path)} bytes\")\n"
      ],
      "metadata": {
        "id": "-iWvtAcFpofl",
        "colab": {
          "base_uri": "https://localhost:8080/"
        },
        "outputId": "e453d06e-f031-4ac0-8382-acca16717757"
      },
      "execution_count": null,
      "outputs": [
        {
          "output_type": "stream",
          "name": "stdout",
          "text": [
            "File Size: 352058 bytes\n"
          ]
        }
      ]
    },
    {
      "cell_type": "code",
      "source": [
        "with open(\"/content/train_val_test_data.pkl\", \"rb\") as f:\n",
        "    content = f.read(100)  # Read first 100 bytes\n",
        "    print(content)\n"
      ],
      "metadata": {
        "colab": {
          "base_uri": "https://localhost:8080/"
        },
        "id": "qePF2IPE4fXY",
        "outputId": "3f328b8a-07b6-4091-844c-73c03bc13ff3"
      },
      "execution_count": null,
      "outputs": [
        {
          "output_type": "stream",
          "name": "stdout",
          "text": [
            "b'\\x80\\x04\\x95$\\x01\\x00\\x00\\x00\\x00\\x00\\x00(\\x8c\\x11scipy.sparse._csr\\x94\\x8c\\ncsr_matrix\\x94\\x93\\x94)\\x81\\x94}\\x94(\\x8c\\x06_shape\\x94Mb\\x05M\\x1d\\x13\\x86\\x94\\x8c\\x08maxprint\\x94K2\\x8c\\x07indices\\x94\\x8c\\x13jobli'\n"
          ]
        }
      ]
    },
    {
      "cell_type": "markdown",
      "source": [
        "Doing Again"
      ],
      "metadata": {
        "id": "4dEPqJom5Q6R"
      }
    },
    {
      "cell_type": "code",
      "source": [
        "import pandas as pd\n",
        "from sklearn.model_selection import train_test_split\n",
        "\n",
        "# Load the preprocessed dataset\n",
        "file_path = \"/content/preprocessed_dataset.xlsx\"\n",
        "df = pd.read_excel(file_path)\n",
        "\n",
        "# Ensure dataset has the necessary columns\n",
        "if 'cleaned_text' not in df.columns or 'v1' not in df.columns:\n",
        "    raise ValueError(\"Dataset is missing required columns 'cleaned_text' or 'v1'!\")\n",
        "\n",
        "# Define features (X) and labels (y)\n",
        "X = df[\"cleaned_text\"]\n",
        "y = df[\"v1\"]  # Assuming 'v1' is the spam/ham label column\n",
        "\n",
        "# Split the dataset (70% train, 15% validation, 15% test)\n",
        "X_train, X_temp, y_train, y_temp = train_test_split(X, y, test_size=0.3, stratify=y, random_state=42)\n",
        "X_val, X_test, y_val, y_test = train_test_split(X_temp, y_temp, test_size=0.5, stratify=y_temp, random_state=42)\n",
        "\n",
        "# Confirm sizes\n",
        "print(f\"Train: {len(X_train)}, Validation: {len(X_val)}, Test: {len(X_test)}\")\n"
      ],
      "metadata": {
        "colab": {
          "base_uri": "https://localhost:8080/"
        },
        "id": "EBE029c342e8",
        "outputId": "20bcb8c3-ac3d-4533-e9b4-19adc11c0294"
      },
      "execution_count": null,
      "outputs": [
        {
          "output_type": "stream",
          "name": "stdout",
          "text": [
            "Train: 1378, Validation: 295, Test: 296\n"
          ]
        }
      ]
    },
    {
      "cell_type": "code",
      "source": [
        "import pickle\n",
        "\n",
        "data = {\n",
        "    \"X_train\": X_train, \"y_train\": y_train,\n",
        "    \"X_val\": X_val, \"y_val\": y_val,\n",
        "    \"X_test\": X_test, \"y_test\": y_test\n",
        "}\n",
        "\n",
        "# Save properly\n",
        "with open(\"/content/train_val_test_data.pkl\", \"wb\") as f:\n",
        "    pickle.dump(data, f)\n",
        "\n",
        "print(\"✅ Successfully re-saved the dataset!\")\n"
      ],
      "metadata": {
        "colab": {
          "base_uri": "https://localhost:8080/"
        },
        "id": "CHZqL4hG48Y0",
        "outputId": "edff61d1-cd9c-465e-ec77-172d171dc950"
      },
      "execution_count": null,
      "outputs": [
        {
          "output_type": "stream",
          "name": "stdout",
          "text": [
            "✅ Successfully re-saved the dataset!\n"
          ]
        }
      ]
    },
    {
      "cell_type": "code",
      "source": [
        "with open(\"/content/train_val_test_data.pkl\", \"rb\") as f:\n",
        "    data = pickle.load(f)\n",
        "\n",
        "# Print dataset size\n",
        "print(\"✅ Successfully loaded dataset!\")\n",
        "print(f\"Train: {len(data['X_train'])}, Validation: {len(data['X_val'])}, Test: {len(data['X_test'])}\")\n"
      ],
      "metadata": {
        "colab": {
          "base_uri": "https://localhost:8080/"
        },
        "id": "DoXAHFoT5cnE",
        "outputId": "58192f3f-4e5d-4f4a-9baf-64203396dc2c"
      },
      "execution_count": null,
      "outputs": [
        {
          "output_type": "stream",
          "name": "stdout",
          "text": [
            "✅ Successfully loaded dataset!\n",
            "Train: 1378, Validation: 295, Test: 296\n"
          ]
        }
      ]
    },
    {
      "cell_type": "code",
      "source": [
        "import pickle\n",
        "from sklearn.feature_extraction.text import TfidfVectorizer\n",
        "\n",
        "# ✅ Load the preprocessed dataset\n",
        "with open(\"train_val_test_data.pkl\", \"rb\") as f:\n",
        "    data = pickle.load(f)\n",
        "\n",
        "X_train, y_train = data[\"X_train\"], data[\"y_train\"]\n",
        "X_val, y_val = data[\"X_val\"], data[\"y_val\"]\n",
        "X_test, y_test = data[\"X_test\"], data[\"y_test\"]\n",
        "\n",
        "# ✅ Initialize and fit TF-IDF Vectorizer on training data\n",
        "tfidf_vectorizer = TfidfVectorizer(max_features=5000)  # Limit features to 5000 most important ones\n",
        "X_train_tfidf = tfidf_vectorizer.fit_transform(X_train)\n",
        "X_val_tfidf = tfidf_vectorizer.transform(X_val)\n",
        "X_test_tfidf = tfidf_vectorizer.transform(X_test)\n",
        "\n",
        "# ✅ Save the transformed data and vectorizer\n",
        "with open(\"tfidf_vectorized_data.pkl\", \"wb\") as f:\n",
        "    pickle.dump({\n",
        "        \"X_train\": X_train_tfidf, \"y_train\": y_train,\n",
        "        \"X_val\": X_val_tfidf, \"y_val\": y_val,\n",
        "        \"X_test\": X_test_tfidf, \"y_test\": y_test\n",
        "    }, f)\n",
        "\n",
        "with open(\"tfidf_vectorizer.pkl\", \"wb\") as f:\n",
        "    pickle.dump(tfidf_vectorizer, f)\n",
        "\n",
        "print(\"✅ TF-IDF Vectorization completed and saved!\")\n"
      ],
      "metadata": {
        "colab": {
          "base_uri": "https://localhost:8080/"
        },
        "id": "fGqzE0rB58VE",
        "outputId": "6b4e3bf5-bd76-49b1-8920-9fa33afb3566"
      },
      "execution_count": null,
      "outputs": [
        {
          "output_type": "stream",
          "name": "stdout",
          "text": [
            "✅ TF-IDF Vectorization completed and saved!\n"
          ]
        }
      ]
    },
    {
      "cell_type": "code",
      "source": [
        "import pickle\n",
        "import numpy as np\n",
        "import pandas as pd\n",
        "from sklearn.linear_model import LogisticRegression\n",
        "from sklearn.ensemble import RandomForestClassifier\n",
        "from sklearn.naive_bayes import MultinomialNB\n",
        "from sklearn.svm import SVC\n",
        "from xgboost import XGBClassifier\n",
        "from sklearn.metrics import accuracy_score, precision_score, recall_score, f1_score\n",
        "\n",
        "# Load TF-IDF Vectorizer & Data\n",
        "with open(\"tfidf_vectorizer.pkl\", \"rb\") as f:\n",
        "    tfidf_vectorizer = pickle.load(f)\n",
        "\n",
        "with open(\"train_val_test_data.pkl\", \"rb\") as f:\n",
        "    data = pickle.load(f)\n",
        "\n",
        "X_train, y_train = data[\"X_train_tfidf\"], data[\"y_train\"]\n",
        "X_val, y_val = data[\"X_val_tfidf\"], data[\"y_val\"]\n",
        "X_test, y_test = data[\"X_test_tfidf\"], data[\"y_test\"]\n",
        "\n",
        "# Define Models\n",
        "models = {\n",
        "    \"Logistic Regression\": LogisticRegression(),\n",
        "    \"Random Forest\": RandomForestClassifier(n_estimators=100),\n",
        "    \"Naive Bayes\": MultinomialNB(),\n",
        "    \"SVM\": SVC(kernel='linear', probability=True),\n",
        "    \"XGBoost\": XGBClassifier(use_label_encoder=False, eval_metric='logloss')\n",
        "}\n",
        "\n",
        "# Train & Evaluate Models\n",
        "results = []\n",
        "for name, model in models.items():\n",
        "    model.fit(X_train, y_train)\n",
        "    y_pred = model.predict(X_val)\n",
        "\n",
        "    accuracy = accuracy_score(y_val, y_pred)\n",
        "    precision = precision_score(y_val, y_pred, pos_label=\"spam\")\n",
        "    recall = recall_score(y_val, y_pred, pos_label=\"spam\")\n",
        "    f1 = f1_score(y_val, y_pred, pos_label=\"spam\")\n",
        "\n",
        "    results.append([name, accuracy, precision, recall, f1])\n",
        "\n",
        "    # Save model\n",
        "    with open(f\"{name.replace(' ', '_').lower()}_model.pkl\", \"wb\") as f:\n",
        "        pickle.dump(model, f)\n",
        "\n",
        "# Convert results to DataFrame\n",
        "results_df = pd.DataFrame(results, columns=[\"Model\", \"Accuracy\", \"Precision\", \"Recall\", \"F1-Score\"])\n",
        "print(results_df.sort_values(by=\"F1-Score\", ascending=False))\n",
        "\n",
        "# Save results\n",
        "results_df.to_csv(\"model_performance.csv\", index=False)\n"
      ],
      "metadata": {
        "colab": {
          "base_uri": "https://localhost:8080/",
          "height": 211
        },
        "id": "IRUOUVjB5klU",
        "outputId": "3ea9b7c8-9f8b-49f9-ffdc-b23c7cc95dbf"
      },
      "execution_count": null,
      "outputs": [
        {
          "output_type": "error",
          "ename": "KeyError",
          "evalue": "'X_train_tfidf'",
          "traceback": [
            "\u001b[0;31m---------------------------------------------------------------------------\u001b[0m",
            "\u001b[0;31mKeyError\u001b[0m                                  Traceback (most recent call last)",
            "\u001b[0;32m<ipython-input-9-b977de705647>\u001b[0m in \u001b[0;36m<cell line: 0>\u001b[0;34m()\u001b[0m\n\u001b[1;32m     16\u001b[0m     \u001b[0mdata\u001b[0m \u001b[0;34m=\u001b[0m \u001b[0mpickle\u001b[0m\u001b[0;34m.\u001b[0m\u001b[0mload\u001b[0m\u001b[0;34m(\u001b[0m\u001b[0mf\u001b[0m\u001b[0;34m)\u001b[0m\u001b[0;34m\u001b[0m\u001b[0;34m\u001b[0m\u001b[0m\n\u001b[1;32m     17\u001b[0m \u001b[0;34m\u001b[0m\u001b[0m\n\u001b[0;32m---> 18\u001b[0;31m \u001b[0mX_train\u001b[0m\u001b[0;34m,\u001b[0m \u001b[0my_train\u001b[0m \u001b[0;34m=\u001b[0m \u001b[0mdata\u001b[0m\u001b[0;34m[\u001b[0m\u001b[0;34m\"X_train_tfidf\"\u001b[0m\u001b[0;34m]\u001b[0m\u001b[0;34m,\u001b[0m \u001b[0mdata\u001b[0m\u001b[0;34m[\u001b[0m\u001b[0;34m\"y_train\"\u001b[0m\u001b[0;34m]\u001b[0m\u001b[0;34m\u001b[0m\u001b[0;34m\u001b[0m\u001b[0m\n\u001b[0m\u001b[1;32m     19\u001b[0m \u001b[0mX_val\u001b[0m\u001b[0;34m,\u001b[0m \u001b[0my_val\u001b[0m \u001b[0;34m=\u001b[0m \u001b[0mdata\u001b[0m\u001b[0;34m[\u001b[0m\u001b[0;34m\"X_val_tfidf\"\u001b[0m\u001b[0;34m]\u001b[0m\u001b[0;34m,\u001b[0m \u001b[0mdata\u001b[0m\u001b[0;34m[\u001b[0m\u001b[0;34m\"y_val\"\u001b[0m\u001b[0;34m]\u001b[0m\u001b[0;34m\u001b[0m\u001b[0;34m\u001b[0m\u001b[0m\n\u001b[1;32m     20\u001b[0m \u001b[0mX_test\u001b[0m\u001b[0;34m,\u001b[0m \u001b[0my_test\u001b[0m \u001b[0;34m=\u001b[0m \u001b[0mdata\u001b[0m\u001b[0;34m[\u001b[0m\u001b[0;34m\"X_test_tfidf\"\u001b[0m\u001b[0;34m]\u001b[0m\u001b[0;34m,\u001b[0m \u001b[0mdata\u001b[0m\u001b[0;34m[\u001b[0m\u001b[0;34m\"y_test\"\u001b[0m\u001b[0;34m]\u001b[0m\u001b[0;34m\u001b[0m\u001b[0;34m\u001b[0m\u001b[0m\n",
            "\u001b[0;31mKeyError\u001b[0m: 'X_train_tfidf'"
          ]
        }
      ]
    },
    {
      "cell_type": "code",
      "source": [
        "import pickle\n",
        "\n",
        "# Load the dataset\n",
        "with open(\"train_val_test_data.pkl\", \"rb\") as f:\n",
        "    data = pickle.load(f)\n",
        "\n",
        "# Print available keys\n",
        "print(\"Keys in the pickle file:\", data.keys())\n"
      ],
      "metadata": {
        "colab": {
          "base_uri": "https://localhost:8080/"
        },
        "id": "2dMA39756dLH",
        "outputId": "8514a92c-e3cf-44dc-8e89-960ca01421f2"
      },
      "execution_count": null,
      "outputs": [
        {
          "output_type": "stream",
          "name": "stdout",
          "text": [
            "Keys in the pickle file: dict_keys(['X_train', 'y_train', 'X_val', 'y_val', 'X_test', 'y_test'])\n"
          ]
        }
      ]
    },
    {
      "cell_type": "code",
      "source": [
        "import pickle\n",
        "\n",
        "# Load TF-IDF Vectorizer\n",
        "with open(\"tfidf_vectorizer.pkl\", \"rb\") as f:\n",
        "    tfidf_vectorizer = pickle.load(f)\n",
        "\n",
        "# Load Train, Validation, and Test sets\n",
        "with open(\"train_val_test_data.pkl\", \"rb\") as f:\n",
        "    data = pickle.load(f)\n",
        "\n",
        "# Apply TF-IDF transformation\n",
        "X_train_tfidf = tfidf_vectorizer.transform(data[\"X_train\"])\n",
        "X_val_tfidf = tfidf_vectorizer.transform(data[\"X_val\"])\n",
        "X_test_tfidf = tfidf_vectorizer.transform(data[\"X_test\"])\n",
        "\n",
        "# Save transformed data back into a new pickle file\n",
        "tfidf_data = {\n",
        "    \"X_train_tfidf\": X_train_tfidf, \"y_train\": data[\"y_train\"],\n",
        "    \"X_val_tfidf\": X_val_tfidf, \"y_val\": data[\"y_val\"],\n",
        "    \"X_test_tfidf\": X_test_tfidf, \"y_test\": data[\"y_test\"]\n",
        "}\n",
        "\n",
        "with open(\"train_val_test_tfidf.pkl\", \"wb\") as f:\n",
        "    pickle.dump(tfidf_data, f)\n",
        "\n",
        "print(\"✅ Successfully applied TF-IDF and saved new dataset!\")\n"
      ],
      "metadata": {
        "colab": {
          "base_uri": "https://localhost:8080/"
        },
        "id": "xLfoBZ1a61EK",
        "outputId": "50ae511e-986c-4c37-ae3f-0278337073dc"
      },
      "execution_count": null,
      "outputs": [
        {
          "output_type": "stream",
          "name": "stdout",
          "text": [
            "✅ Successfully applied TF-IDF and saved new dataset!\n"
          ]
        }
      ]
    },
    {
      "cell_type": "code",
      "source": [
        "import pickle\n",
        "from sklearn.linear_model import LogisticRegression\n",
        "from sklearn.metrics import classification_report\n",
        "from sklearn.model_selection import train_test_split\n",
        "\n",
        "# Load the transformed data\n",
        "with open(\"train_val_test_tfidf.pkl\", \"rb\") as f:\n",
        "    tfidf_data = pickle.load(f)\n",
        "\n",
        "# Split the data into features and labels\n",
        "X_train = tfidf_data[\"X_train_tfidf\"]\n",
        "y_train = tfidf_data[\"y_train\"]\n",
        "X_val = tfidf_data[\"X_val_tfidf\"]\n",
        "y_val = tfidf_data[\"y_val\"]\n",
        "X_test = tfidf_data[\"X_test_tfidf\"]\n",
        "y_test = tfidf_data[\"y_test\"]\n"
      ],
      "metadata": {
        "id": "OyoitODR8yxH"
      },
      "execution_count": null,
      "outputs": []
    },
    {
      "cell_type": "code",
      "source": [
        "# Initialize the Logistic Regression model\n",
        "model = LogisticRegression(max_iter=1000)\n",
        "\n",
        "# Train the model on the training data\n",
        "model.fit(X_train, y_train)\n"
      ],
      "metadata": {
        "colab": {
          "base_uri": "https://localhost:8080/",
          "height": 80
        },
        "id": "QCSMF14p6qUO",
        "outputId": "00decaeb-4685-4cf2-bdba-0ed252960c74"
      },
      "execution_count": null,
      "outputs": [
        {
          "output_type": "execute_result",
          "data": {
            "text/plain": [
              "LogisticRegression(max_iter=1000)"
            ],
            "text/html": [
              "<style>#sk-container-id-1 {\n",
              "  /* Definition of color scheme common for light and dark mode */\n",
              "  --sklearn-color-text: #000;\n",
              "  --sklearn-color-text-muted: #666;\n",
              "  --sklearn-color-line: gray;\n",
              "  /* Definition of color scheme for unfitted estimators */\n",
              "  --sklearn-color-unfitted-level-0: #fff5e6;\n",
              "  --sklearn-color-unfitted-level-1: #f6e4d2;\n",
              "  --sklearn-color-unfitted-level-2: #ffe0b3;\n",
              "  --sklearn-color-unfitted-level-3: chocolate;\n",
              "  /* Definition of color scheme for fitted estimators */\n",
              "  --sklearn-color-fitted-level-0: #f0f8ff;\n",
              "  --sklearn-color-fitted-level-1: #d4ebff;\n",
              "  --sklearn-color-fitted-level-2: #b3dbfd;\n",
              "  --sklearn-color-fitted-level-3: cornflowerblue;\n",
              "\n",
              "  /* Specific color for light theme */\n",
              "  --sklearn-color-text-on-default-background: var(--sg-text-color, var(--theme-code-foreground, var(--jp-content-font-color1, black)));\n",
              "  --sklearn-color-background: var(--sg-background-color, var(--theme-background, var(--jp-layout-color0, white)));\n",
              "  --sklearn-color-border-box: var(--sg-text-color, var(--theme-code-foreground, var(--jp-content-font-color1, black)));\n",
              "  --sklearn-color-icon: #696969;\n",
              "\n",
              "  @media (prefers-color-scheme: dark) {\n",
              "    /* Redefinition of color scheme for dark theme */\n",
              "    --sklearn-color-text-on-default-background: var(--sg-text-color, var(--theme-code-foreground, var(--jp-content-font-color1, white)));\n",
              "    --sklearn-color-background: var(--sg-background-color, var(--theme-background, var(--jp-layout-color0, #111)));\n",
              "    --sklearn-color-border-box: var(--sg-text-color, var(--theme-code-foreground, var(--jp-content-font-color1, white)));\n",
              "    --sklearn-color-icon: #878787;\n",
              "  }\n",
              "}\n",
              "\n",
              "#sk-container-id-1 {\n",
              "  color: var(--sklearn-color-text);\n",
              "}\n",
              "\n",
              "#sk-container-id-1 pre {\n",
              "  padding: 0;\n",
              "}\n",
              "\n",
              "#sk-container-id-1 input.sk-hidden--visually {\n",
              "  border: 0;\n",
              "  clip: rect(1px 1px 1px 1px);\n",
              "  clip: rect(1px, 1px, 1px, 1px);\n",
              "  height: 1px;\n",
              "  margin: -1px;\n",
              "  overflow: hidden;\n",
              "  padding: 0;\n",
              "  position: absolute;\n",
              "  width: 1px;\n",
              "}\n",
              "\n",
              "#sk-container-id-1 div.sk-dashed-wrapped {\n",
              "  border: 1px dashed var(--sklearn-color-line);\n",
              "  margin: 0 0.4em 0.5em 0.4em;\n",
              "  box-sizing: border-box;\n",
              "  padding-bottom: 0.4em;\n",
              "  background-color: var(--sklearn-color-background);\n",
              "}\n",
              "\n",
              "#sk-container-id-1 div.sk-container {\n",
              "  /* jupyter's `normalize.less` sets `[hidden] { display: none; }`\n",
              "     but bootstrap.min.css set `[hidden] { display: none !important; }`\n",
              "     so we also need the `!important` here to be able to override the\n",
              "     default hidden behavior on the sphinx rendered scikit-learn.org.\n",
              "     See: https://github.com/scikit-learn/scikit-learn/issues/21755 */\n",
              "  display: inline-block !important;\n",
              "  position: relative;\n",
              "}\n",
              "\n",
              "#sk-container-id-1 div.sk-text-repr-fallback {\n",
              "  display: none;\n",
              "}\n",
              "\n",
              "div.sk-parallel-item,\n",
              "div.sk-serial,\n",
              "div.sk-item {\n",
              "  /* draw centered vertical line to link estimators */\n",
              "  background-image: linear-gradient(var(--sklearn-color-text-on-default-background), var(--sklearn-color-text-on-default-background));\n",
              "  background-size: 2px 100%;\n",
              "  background-repeat: no-repeat;\n",
              "  background-position: center center;\n",
              "}\n",
              "\n",
              "/* Parallel-specific style estimator block */\n",
              "\n",
              "#sk-container-id-1 div.sk-parallel-item::after {\n",
              "  content: \"\";\n",
              "  width: 100%;\n",
              "  border-bottom: 2px solid var(--sklearn-color-text-on-default-background);\n",
              "  flex-grow: 1;\n",
              "}\n",
              "\n",
              "#sk-container-id-1 div.sk-parallel {\n",
              "  display: flex;\n",
              "  align-items: stretch;\n",
              "  justify-content: center;\n",
              "  background-color: var(--sklearn-color-background);\n",
              "  position: relative;\n",
              "}\n",
              "\n",
              "#sk-container-id-1 div.sk-parallel-item {\n",
              "  display: flex;\n",
              "  flex-direction: column;\n",
              "}\n",
              "\n",
              "#sk-container-id-1 div.sk-parallel-item:first-child::after {\n",
              "  align-self: flex-end;\n",
              "  width: 50%;\n",
              "}\n",
              "\n",
              "#sk-container-id-1 div.sk-parallel-item:last-child::after {\n",
              "  align-self: flex-start;\n",
              "  width: 50%;\n",
              "}\n",
              "\n",
              "#sk-container-id-1 div.sk-parallel-item:only-child::after {\n",
              "  width: 0;\n",
              "}\n",
              "\n",
              "/* Serial-specific style estimator block */\n",
              "\n",
              "#sk-container-id-1 div.sk-serial {\n",
              "  display: flex;\n",
              "  flex-direction: column;\n",
              "  align-items: center;\n",
              "  background-color: var(--sklearn-color-background);\n",
              "  padding-right: 1em;\n",
              "  padding-left: 1em;\n",
              "}\n",
              "\n",
              "\n",
              "/* Toggleable style: style used for estimator/Pipeline/ColumnTransformer box that is\n",
              "clickable and can be expanded/collapsed.\n",
              "- Pipeline and ColumnTransformer use this feature and define the default style\n",
              "- Estimators will overwrite some part of the style using the `sk-estimator` class\n",
              "*/\n",
              "\n",
              "/* Pipeline and ColumnTransformer style (default) */\n",
              "\n",
              "#sk-container-id-1 div.sk-toggleable {\n",
              "  /* Default theme specific background. It is overwritten whether we have a\n",
              "  specific estimator or a Pipeline/ColumnTransformer */\n",
              "  background-color: var(--sklearn-color-background);\n",
              "}\n",
              "\n",
              "/* Toggleable label */\n",
              "#sk-container-id-1 label.sk-toggleable__label {\n",
              "  cursor: pointer;\n",
              "  display: flex;\n",
              "  width: 100%;\n",
              "  margin-bottom: 0;\n",
              "  padding: 0.5em;\n",
              "  box-sizing: border-box;\n",
              "  text-align: center;\n",
              "  align-items: start;\n",
              "  justify-content: space-between;\n",
              "  gap: 0.5em;\n",
              "}\n",
              "\n",
              "#sk-container-id-1 label.sk-toggleable__label .caption {\n",
              "  font-size: 0.6rem;\n",
              "  font-weight: lighter;\n",
              "  color: var(--sklearn-color-text-muted);\n",
              "}\n",
              "\n",
              "#sk-container-id-1 label.sk-toggleable__label-arrow:before {\n",
              "  /* Arrow on the left of the label */\n",
              "  content: \"▸\";\n",
              "  float: left;\n",
              "  margin-right: 0.25em;\n",
              "  color: var(--sklearn-color-icon);\n",
              "}\n",
              "\n",
              "#sk-container-id-1 label.sk-toggleable__label-arrow:hover:before {\n",
              "  color: var(--sklearn-color-text);\n",
              "}\n",
              "\n",
              "/* Toggleable content - dropdown */\n",
              "\n",
              "#sk-container-id-1 div.sk-toggleable__content {\n",
              "  max-height: 0;\n",
              "  max-width: 0;\n",
              "  overflow: hidden;\n",
              "  text-align: left;\n",
              "  /* unfitted */\n",
              "  background-color: var(--sklearn-color-unfitted-level-0);\n",
              "}\n",
              "\n",
              "#sk-container-id-1 div.sk-toggleable__content.fitted {\n",
              "  /* fitted */\n",
              "  background-color: var(--sklearn-color-fitted-level-0);\n",
              "}\n",
              "\n",
              "#sk-container-id-1 div.sk-toggleable__content pre {\n",
              "  margin: 0.2em;\n",
              "  border-radius: 0.25em;\n",
              "  color: var(--sklearn-color-text);\n",
              "  /* unfitted */\n",
              "  background-color: var(--sklearn-color-unfitted-level-0);\n",
              "}\n",
              "\n",
              "#sk-container-id-1 div.sk-toggleable__content.fitted pre {\n",
              "  /* unfitted */\n",
              "  background-color: var(--sklearn-color-fitted-level-0);\n",
              "}\n",
              "\n",
              "#sk-container-id-1 input.sk-toggleable__control:checked~div.sk-toggleable__content {\n",
              "  /* Expand drop-down */\n",
              "  max-height: 200px;\n",
              "  max-width: 100%;\n",
              "  overflow: auto;\n",
              "}\n",
              "\n",
              "#sk-container-id-1 input.sk-toggleable__control:checked~label.sk-toggleable__label-arrow:before {\n",
              "  content: \"▾\";\n",
              "}\n",
              "\n",
              "/* Pipeline/ColumnTransformer-specific style */\n",
              "\n",
              "#sk-container-id-1 div.sk-label input.sk-toggleable__control:checked~label.sk-toggleable__label {\n",
              "  color: var(--sklearn-color-text);\n",
              "  background-color: var(--sklearn-color-unfitted-level-2);\n",
              "}\n",
              "\n",
              "#sk-container-id-1 div.sk-label.fitted input.sk-toggleable__control:checked~label.sk-toggleable__label {\n",
              "  background-color: var(--sklearn-color-fitted-level-2);\n",
              "}\n",
              "\n",
              "/* Estimator-specific style */\n",
              "\n",
              "/* Colorize estimator box */\n",
              "#sk-container-id-1 div.sk-estimator input.sk-toggleable__control:checked~label.sk-toggleable__label {\n",
              "  /* unfitted */\n",
              "  background-color: var(--sklearn-color-unfitted-level-2);\n",
              "}\n",
              "\n",
              "#sk-container-id-1 div.sk-estimator.fitted input.sk-toggleable__control:checked~label.sk-toggleable__label {\n",
              "  /* fitted */\n",
              "  background-color: var(--sklearn-color-fitted-level-2);\n",
              "}\n",
              "\n",
              "#sk-container-id-1 div.sk-label label.sk-toggleable__label,\n",
              "#sk-container-id-1 div.sk-label label {\n",
              "  /* The background is the default theme color */\n",
              "  color: var(--sklearn-color-text-on-default-background);\n",
              "}\n",
              "\n",
              "/* On hover, darken the color of the background */\n",
              "#sk-container-id-1 div.sk-label:hover label.sk-toggleable__label {\n",
              "  color: var(--sklearn-color-text);\n",
              "  background-color: var(--sklearn-color-unfitted-level-2);\n",
              "}\n",
              "\n",
              "/* Label box, darken color on hover, fitted */\n",
              "#sk-container-id-1 div.sk-label.fitted:hover label.sk-toggleable__label.fitted {\n",
              "  color: var(--sklearn-color-text);\n",
              "  background-color: var(--sklearn-color-fitted-level-2);\n",
              "}\n",
              "\n",
              "/* Estimator label */\n",
              "\n",
              "#sk-container-id-1 div.sk-label label {\n",
              "  font-family: monospace;\n",
              "  font-weight: bold;\n",
              "  display: inline-block;\n",
              "  line-height: 1.2em;\n",
              "}\n",
              "\n",
              "#sk-container-id-1 div.sk-label-container {\n",
              "  text-align: center;\n",
              "}\n",
              "\n",
              "/* Estimator-specific */\n",
              "#sk-container-id-1 div.sk-estimator {\n",
              "  font-family: monospace;\n",
              "  border: 1px dotted var(--sklearn-color-border-box);\n",
              "  border-radius: 0.25em;\n",
              "  box-sizing: border-box;\n",
              "  margin-bottom: 0.5em;\n",
              "  /* unfitted */\n",
              "  background-color: var(--sklearn-color-unfitted-level-0);\n",
              "}\n",
              "\n",
              "#sk-container-id-1 div.sk-estimator.fitted {\n",
              "  /* fitted */\n",
              "  background-color: var(--sklearn-color-fitted-level-0);\n",
              "}\n",
              "\n",
              "/* on hover */\n",
              "#sk-container-id-1 div.sk-estimator:hover {\n",
              "  /* unfitted */\n",
              "  background-color: var(--sklearn-color-unfitted-level-2);\n",
              "}\n",
              "\n",
              "#sk-container-id-1 div.sk-estimator.fitted:hover {\n",
              "  /* fitted */\n",
              "  background-color: var(--sklearn-color-fitted-level-2);\n",
              "}\n",
              "\n",
              "/* Specification for estimator info (e.g. \"i\" and \"?\") */\n",
              "\n",
              "/* Common style for \"i\" and \"?\" */\n",
              "\n",
              ".sk-estimator-doc-link,\n",
              "a:link.sk-estimator-doc-link,\n",
              "a:visited.sk-estimator-doc-link {\n",
              "  float: right;\n",
              "  font-size: smaller;\n",
              "  line-height: 1em;\n",
              "  font-family: monospace;\n",
              "  background-color: var(--sklearn-color-background);\n",
              "  border-radius: 1em;\n",
              "  height: 1em;\n",
              "  width: 1em;\n",
              "  text-decoration: none !important;\n",
              "  margin-left: 0.5em;\n",
              "  text-align: center;\n",
              "  /* unfitted */\n",
              "  border: var(--sklearn-color-unfitted-level-1) 1pt solid;\n",
              "  color: var(--sklearn-color-unfitted-level-1);\n",
              "}\n",
              "\n",
              ".sk-estimator-doc-link.fitted,\n",
              "a:link.sk-estimator-doc-link.fitted,\n",
              "a:visited.sk-estimator-doc-link.fitted {\n",
              "  /* fitted */\n",
              "  border: var(--sklearn-color-fitted-level-1) 1pt solid;\n",
              "  color: var(--sklearn-color-fitted-level-1);\n",
              "}\n",
              "\n",
              "/* On hover */\n",
              "div.sk-estimator:hover .sk-estimator-doc-link:hover,\n",
              ".sk-estimator-doc-link:hover,\n",
              "div.sk-label-container:hover .sk-estimator-doc-link:hover,\n",
              ".sk-estimator-doc-link:hover {\n",
              "  /* unfitted */\n",
              "  background-color: var(--sklearn-color-unfitted-level-3);\n",
              "  color: var(--sklearn-color-background);\n",
              "  text-decoration: none;\n",
              "}\n",
              "\n",
              "div.sk-estimator.fitted:hover .sk-estimator-doc-link.fitted:hover,\n",
              ".sk-estimator-doc-link.fitted:hover,\n",
              "div.sk-label-container:hover .sk-estimator-doc-link.fitted:hover,\n",
              ".sk-estimator-doc-link.fitted:hover {\n",
              "  /* fitted */\n",
              "  background-color: var(--sklearn-color-fitted-level-3);\n",
              "  color: var(--sklearn-color-background);\n",
              "  text-decoration: none;\n",
              "}\n",
              "\n",
              "/* Span, style for the box shown on hovering the info icon */\n",
              ".sk-estimator-doc-link span {\n",
              "  display: none;\n",
              "  z-index: 9999;\n",
              "  position: relative;\n",
              "  font-weight: normal;\n",
              "  right: .2ex;\n",
              "  padding: .5ex;\n",
              "  margin: .5ex;\n",
              "  width: min-content;\n",
              "  min-width: 20ex;\n",
              "  max-width: 50ex;\n",
              "  color: var(--sklearn-color-text);\n",
              "  box-shadow: 2pt 2pt 4pt #999;\n",
              "  /* unfitted */\n",
              "  background: var(--sklearn-color-unfitted-level-0);\n",
              "  border: .5pt solid var(--sklearn-color-unfitted-level-3);\n",
              "}\n",
              "\n",
              ".sk-estimator-doc-link.fitted span {\n",
              "  /* fitted */\n",
              "  background: var(--sklearn-color-fitted-level-0);\n",
              "  border: var(--sklearn-color-fitted-level-3);\n",
              "}\n",
              "\n",
              ".sk-estimator-doc-link:hover span {\n",
              "  display: block;\n",
              "}\n",
              "\n",
              "/* \"?\"-specific style due to the `<a>` HTML tag */\n",
              "\n",
              "#sk-container-id-1 a.estimator_doc_link {\n",
              "  float: right;\n",
              "  font-size: 1rem;\n",
              "  line-height: 1em;\n",
              "  font-family: monospace;\n",
              "  background-color: var(--sklearn-color-background);\n",
              "  border-radius: 1rem;\n",
              "  height: 1rem;\n",
              "  width: 1rem;\n",
              "  text-decoration: none;\n",
              "  /* unfitted */\n",
              "  color: var(--sklearn-color-unfitted-level-1);\n",
              "  border: var(--sklearn-color-unfitted-level-1) 1pt solid;\n",
              "}\n",
              "\n",
              "#sk-container-id-1 a.estimator_doc_link.fitted {\n",
              "  /* fitted */\n",
              "  border: var(--sklearn-color-fitted-level-1) 1pt solid;\n",
              "  color: var(--sklearn-color-fitted-level-1);\n",
              "}\n",
              "\n",
              "/* On hover */\n",
              "#sk-container-id-1 a.estimator_doc_link:hover {\n",
              "  /* unfitted */\n",
              "  background-color: var(--sklearn-color-unfitted-level-3);\n",
              "  color: var(--sklearn-color-background);\n",
              "  text-decoration: none;\n",
              "}\n",
              "\n",
              "#sk-container-id-1 a.estimator_doc_link.fitted:hover {\n",
              "  /* fitted */\n",
              "  background-color: var(--sklearn-color-fitted-level-3);\n",
              "}\n",
              "</style><div id=\"sk-container-id-1\" class=\"sk-top-container\"><div class=\"sk-text-repr-fallback\"><pre>LogisticRegression(max_iter=1000)</pre><b>In a Jupyter environment, please rerun this cell to show the HTML representation or trust the notebook. <br />On GitHub, the HTML representation is unable to render, please try loading this page with nbviewer.org.</b></div><div class=\"sk-container\" hidden><div class=\"sk-item\"><div class=\"sk-estimator fitted sk-toggleable\"><input class=\"sk-toggleable__control sk-hidden--visually\" id=\"sk-estimator-id-1\" type=\"checkbox\" checked><label for=\"sk-estimator-id-1\" class=\"sk-toggleable__label fitted sk-toggleable__label-arrow\"><div><div>LogisticRegression</div></div><div><a class=\"sk-estimator-doc-link fitted\" rel=\"noreferrer\" target=\"_blank\" href=\"https://scikit-learn.org/1.6/modules/generated/sklearn.linear_model.LogisticRegression.html\">?<span>Documentation for LogisticRegression</span></a><span class=\"sk-estimator-doc-link fitted\">i<span>Fitted</span></span></div></label><div class=\"sk-toggleable__content fitted\"><pre>LogisticRegression(max_iter=1000)</pre></div> </div></div></div></div>"
            ]
          },
          "metadata": {},
          "execution_count": 13
        }
      ]
    },
    {
      "cell_type": "code",
      "source": [
        "# Evaluate the model on the validation set\n",
        "y_val_pred = model.predict(X_val)\n",
        "print(\"Validation Set Evaluation:\")\n",
        "print(classification_report(y_val, y_val_pred))\n",
        "\n",
        "# Evaluate the model on the test set\n",
        "y_test_pred = model.predict(X_test)\n",
        "print(\"Test Set Evaluation:\")\n",
        "print(classification_report(y_test, y_test_pred))\n"
      ],
      "metadata": {
        "colab": {
          "base_uri": "https://localhost:8080/"
        },
        "id": "3o-FXrI685yO",
        "outputId": "110b893a-b82e-451f-ade4-570451bb7bda"
      },
      "execution_count": null,
      "outputs": [
        {
          "output_type": "stream",
          "name": "stdout",
          "text": [
            "Validation Set Evaluation:\n",
            "              precision    recall  f1-score   support\n",
            "\n",
            "         ham       0.92      1.00      0.95       212\n",
            "        spam       0.98      0.77      0.86        83\n",
            "\n",
            "    accuracy                           0.93       295\n",
            "   macro avg       0.95      0.88      0.91       295\n",
            "weighted avg       0.94      0.93      0.93       295\n",
            "\n",
            "Test Set Evaluation:\n",
            "              precision    recall  f1-score   support\n",
            "\n",
            "         ham       0.90      0.99      0.94       213\n",
            "        spam       0.97      0.72      0.83        83\n",
            "\n",
            "    accuracy                           0.92       296\n",
            "   macro avg       0.93      0.86      0.89       296\n",
            "weighted avg       0.92      0.92      0.91       296\n",
            "\n"
          ]
        }
      ]
    },
    {
      "cell_type": "code",
      "source": [
        "from sklearn.model_selection import GridSearchCV\n",
        "\n",
        "# Set up the parameter grid for logistic regression\n",
        "param_grid = {'C': [0.1, 1, 10, 100]}\n",
        "\n",
        "# Perform grid search to find the best parameter\n",
        "grid_search = GridSearchCV(LogisticRegression(max_iter=1000), param_grid, cv=5)\n",
        "grid_search.fit(X_train, y_train)\n",
        "\n",
        "# Get the best model\n",
        "best_model = grid_search.best_estimator_\n",
        "\n",
        "# Evaluate the best model on the test set\n",
        "y_test_pred = best_model.predict(X_test)\n",
        "print(\"Test Set Evaluation with Best Model:\")\n",
        "print(classification_report(y_test, y_test_pred))\n"
      ],
      "metadata": {
        "colab": {
          "base_uri": "https://localhost:8080/"
        },
        "id": "jVnAp87G88zy",
        "outputId": "550e8741-443d-4ace-e8cc-da40c6db208c"
      },
      "execution_count": null,
      "outputs": [
        {
          "output_type": "stream",
          "name": "stdout",
          "text": [
            "Test Set Evaluation with Best Model:\n",
            "              precision    recall  f1-score   support\n",
            "\n",
            "         ham       0.99      0.99      0.99       213\n",
            "        spam       0.98      0.98      0.98        83\n",
            "\n",
            "    accuracy                           0.99       296\n",
            "   macro avg       0.98      0.98      0.98       296\n",
            "weighted avg       0.99      0.99      0.99       296\n",
            "\n"
          ]
        }
      ]
    },
    {
      "cell_type": "code",
      "source": [
        "# Save the trained model\n",
        "with open(\"text_classification_model.pkl\", \"wb\") as f:\n",
        "    pickle.dump(model, f)\n",
        "\n",
        "# If using the best model after tuning:\n",
        "# with open(\"best_text_classification_model.pkl\", \"wb\") as f:\n",
        "#     pickle.dump(best_model, f)\n"
      ],
      "metadata": {
        "id": "jrMhJ42W9Roi"
      },
      "execution_count": null,
      "outputs": []
    },
    {
      "cell_type": "code",
      "source": [
        "import pickle\n",
        "from sklearn.linear_model import LogisticRegression\n",
        "from sklearn.metrics import classification_report\n",
        "\n",
        "# Load the transformed data\n",
        "with open(\"/content/train_val_test_tfidf.pkl\", \"rb\") as f:\n",
        "    tfidf_data = pickle.load(f)\n",
        "\n",
        "# Split the data into features and labels\n",
        "X_train = tfidf_data[\"X_train_tfidf\"]\n",
        "y_train = tfidf_data[\"y_train\"]\n",
        "X_val = tfidf_data[\"X_val_tfidf\"]\n",
        "y_val = tfidf_data[\"y_val\"]\n",
        "X_test = tfidf_data[\"X_test_tfidf\"]\n",
        "y_test = tfidf_data[\"y_test\"]\n",
        "\n",
        "# Initialize and train the Logistic Regression model\n",
        "model = LogisticRegression(max_iter=1000)\n",
        "model.fit(X_train, y_train)\n",
        "\n",
        "# Evaluate the model on the validation set\n",
        "y_val_pred = model.predict(X_val)\n",
        "print(\"Validation Set Evaluation:\")\n",
        "print(classification_report(y_val, y_val_pred))\n",
        "\n",
        "# Evaluate the model on the test set\n",
        "y_test_pred = model.predict(X_test)\n",
        "print(\"Test Set Evaluation:\")\n",
        "print(classification_report(y_test, y_test_pred))\n",
        "\n",
        "# Save the trained model to a pickle file\n",
        "with open(\"text_classification_model.pkl\", \"wb\") as f:\n",
        "    pickle.dump(model, f)\n",
        "\n",
        "print(\"✅ Model training complete and saved as text_classification_model.pkl!\")\n"
      ],
      "metadata": {
        "colab": {
          "base_uri": "https://localhost:8080/"
        },
        "id": "EtkjQdzw9tWC",
        "outputId": "35181593-7a25-4438-9397-aff6fa6d1091"
      },
      "execution_count": null,
      "outputs": [
        {
          "output_type": "stream",
          "name": "stdout",
          "text": [
            "Validation Set Evaluation:\n",
            "              precision    recall  f1-score   support\n",
            "\n",
            "         ham       0.92      1.00      0.95       212\n",
            "        spam       0.98      0.77      0.86        83\n",
            "\n",
            "    accuracy                           0.93       295\n",
            "   macro avg       0.95      0.88      0.91       295\n",
            "weighted avg       0.94      0.93      0.93       295\n",
            "\n",
            "Test Set Evaluation:\n",
            "              precision    recall  f1-score   support\n",
            "\n",
            "         ham       0.90      0.99      0.94       213\n",
            "        spam       0.97      0.72      0.83        83\n",
            "\n",
            "    accuracy                           0.92       296\n",
            "   macro avg       0.93      0.86      0.89       296\n",
            "weighted avg       0.92      0.92      0.91       296\n",
            "\n",
            "✅ Model training complete and saved as text_classification_model.pkl!\n"
          ]
        }
      ]
    },
    {
      "cell_type": "code",
      "source": [
        "# Load the saved model\n",
        "with open(\"text_classification_model.pkl\", \"rb\") as f:\n",
        "    model = pickle.load(f)\n",
        "\n",
        "# Assuming you have new text data to predict\n",
        "new_text_data = [\"जोस पूछते हैं कि क्या आप मिलना चाहते हैं?\"]\n",
        "\n",
        "# You would need to apply the same TF-IDF transformation to the new data\n",
        "new_text_tfidf = tfidf_vectorizer.transform(new_text_data)\n",
        "\n",
        "# Make predictions\n",
        "predictions = model.predict(new_text_tfidf)\n",
        "\n",
        "# Output the predictions\n",
        "print(predictions)\n"
      ],
      "metadata": {
        "colab": {
          "base_uri": "https://localhost:8080/"
        },
        "id": "TVrR-wd8-UkM",
        "outputId": "fec3643d-12ca-4dfb-afcc-3214872ba976"
      },
      "execution_count": null,
      "outputs": [
        {
          "output_type": "stream",
          "name": "stdout",
          "text": [
            "['ham']\n"
          ]
        }
      ]
    },
    {
      "cell_type": "code",
      "source": [
        "\n",
        "with open(\"text_classification_model.pkl\", \"rb\") as f:\n",
        "    model = pickle.load(f)\n",
        "\n",
        "# Assuming you have new text data to predict\n",
        "new_text_data = [\"बधाई! Nokia 3650 वीडियो कैमरा फोन आपका कॉल है 09066382422 कॉल COST COST 150PPM AVE कॉल 3mins मोबाइल्स से अलग -अलग हैं 16+ क्लोज 300603 पोस्ट BCM4284 LDN WC1N3XX\"]\n",
        "\n",
        "# You would need to apply the same TF-IDF transformation to the new data\n",
        "new_text_tfidf = tfidf_vectorizer.transform(new_text_data)\n",
        "\n",
        "# Make predictions\n",
        "predictions = model.predict(new_text_tfidf)\n",
        "\n",
        "# Output the predictions\n",
        "print(predictions)\n"
      ],
      "metadata": {
        "colab": {
          "base_uri": "https://localhost:8080/"
        },
        "id": "gTJqWufF_AF1",
        "outputId": "88432420-b0fc-40cb-cc68-8ea5a7d6a252"
      },
      "execution_count": null,
      "outputs": [
        {
          "output_type": "stream",
          "name": "stdout",
          "text": [
            "['ham']\n"
          ]
        }
      ]
    },
    {
      "cell_type": "code",
      "source": [
        "from sklearn.model_selection import GridSearchCV\n",
        "\n",
        "# Set up the parameter grid\n",
        "param_grid = {'C': [0.1, 1, 10, 100]}\n",
        "\n",
        "# Initialize GridSearchCV\n",
        "grid_search = GridSearchCV(LogisticRegression(max_iter=1000), param_grid, cv=5)\n",
        "grid_search.fit(X_train, y_train)\n",
        "\n",
        "# Get the best model\n",
        "best_model = grid_search.best_estimator_\n",
        "\n",
        "# Evaluate the best model on the test set\n",
        "y_test_pred = best_model.predict(X_test)\n",
        "print(classification_report(y_test, y_test_pred))\n"
      ],
      "metadata": {
        "colab": {
          "base_uri": "https://localhost:8080/"
        },
        "id": "ghPe5Nru_SPF",
        "outputId": "5c06bfd6-0d2c-4973-fb3e-79266d447b2b"
      },
      "execution_count": null,
      "outputs": [
        {
          "output_type": "stream",
          "name": "stdout",
          "text": [
            "              precision    recall  f1-score   support\n",
            "\n",
            "         ham       0.99      0.99      0.99       213\n",
            "        spam       0.98      0.98      0.98        83\n",
            "\n",
            "    accuracy                           0.99       296\n",
            "   macro avg       0.98      0.98      0.98       296\n",
            "weighted avg       0.99      0.99      0.99       296\n",
            "\n"
          ]
        }
      ]
    },
    {
      "cell_type": "code",
      "source": [
        "\n",
        "with open(\"text_classification_model.pkl\", \"rb\") as f:\n",
        "    model = pickle.load(f)\n",
        "\n",
        "# Assuming you have new text data to predict\n",
        "new_text_data = [\"మీ మొబైల్ 11 నెలలు లేదా అంతకంటే ఎక్కువ ఉందా?కెమెరాతో తాజా కలర్ మొబైల్‌లకు ఉచితంగా అప్‌డేట్ చేయడానికి u r అర్హత ఉంది!08002986030 లో మొబైల్ నవీకరణ CO కి ఉచితంగా కాల్ చేయండి\"]\n",
        "\n",
        "# You would need to apply the same TF-IDF transformation to the new data\n",
        "new_text_tfidf = tfidf_vectorizer.transform(new_text_data)\n",
        "\n",
        "# Make predictions\n",
        "predictions = model.predict(new_text_tfidf)\n",
        "\n",
        "# Output the predictions\n",
        "print(predictions)\n"
      ],
      "metadata": {
        "colab": {
          "base_uri": "https://localhost:8080/"
        },
        "id": "-KiG6QW-_XvK",
        "outputId": "bfb4f1e0-e9fd-48f0-9eae-1e15d8c3eb1b"
      },
      "execution_count": null,
      "outputs": [
        {
          "output_type": "stream",
          "name": "stdout",
          "text": [
            "['ham']\n"
          ]
        }
      ]
    },
    {
      "cell_type": "code",
      "source": [],
      "metadata": {
        "id": "5bF-525A_w7h"
      },
      "execution_count": null,
      "outputs": []
    }
  ]
}